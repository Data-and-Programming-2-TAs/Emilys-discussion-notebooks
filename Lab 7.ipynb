{
 "cells": [
  {
   "cell_type": "markdown",
   "metadata": {},
   "source": [
    "## Python Best Practices"
   ]
  },
  {
   "cell_type": "markdown",
   "metadata": {},
   "source": [
    "### Reading in PDFs while checking if file already exists in folder\n",
    "**Source:** Sarah's Discussion Notebook"
   ]
  },
  {
   "cell_type": "code",
   "execution_count": 1,
   "metadata": {},
   "outputs": [],
   "source": [
    "# Import statements should be at top of code!\n",
    "import os\n",
    "import pandas as pd\n",
    "import requests\n",
    "import PyPDF2\n",
    "import re # regular expressions"
   ]
  },
  {
   "cell_type": "code",
   "execution_count": 2,
   "metadata": {},
   "outputs": [
    {
     "ename": "NameError",
     "evalue": "name '__file__' is not defined",
     "output_type": "error",
     "traceback": [
      "\u001b[0;31m---------------------------------------------------------------------------\u001b[0m",
      "\u001b[0;31mNameError\u001b[0m                                 Traceback (most recent call last)",
      "\u001b[0;32m<ipython-input-2-d6813e432de4>\u001b[0m in \u001b[0;36m<module>\u001b[0;34m()\u001b[0m\n\u001b[0;32m----> 1\u001b[0;31m \u001b[0mos\u001b[0m\u001b[0;34m.\u001b[0m\u001b[0mchdir\u001b[0m\u001b[0;34m(\u001b[0m\u001b[0mos\u001b[0m\u001b[0;34m.\u001b[0m\u001b[0mpath\u001b[0m\u001b[0;34m.\u001b[0m\u001b[0mdirname\u001b[0m\u001b[0;34m(\u001b[0m\u001b[0mos\u001b[0m\u001b[0;34m.\u001b[0m\u001b[0mpath\u001b[0m\u001b[0;34m.\u001b[0m\u001b[0mabspath\u001b[0m\u001b[0;34m(\u001b[0m\u001b[0m__file__\u001b[0m\u001b[0;34m)\u001b[0m\u001b[0;34m)\u001b[0m\u001b[0;34m)\u001b[0m\u001b[0;34m\u001b[0m\u001b[0;34m\u001b[0m\u001b[0m\n\u001b[0m",
      "\u001b[0;31mNameError\u001b[0m: name '__file__' is not defined"
     ]
    }
   ],
   "source": [
    "os.chdir(os.path.dirname(os.path.abspath(__file__)))"
   ]
  },
  {
   "cell_type": "code",
   "execution_count": 2,
   "metadata": {},
   "outputs": [
    {
     "data": {
      "text/plain": [
       "'/Users/ezhang/Documents/**Fall 2020/TA - Data Skills for Policy/emily-discussion-notebooks'"
      ]
     },
     "execution_count": 2,
     "metadata": {},
     "output_type": "execute_result"
    }
   ],
   "source": [
    "# os. getcwd() returns the absolute path of the working directory where Python is currently running as a string str\n",
    "path = os.getcwd()\n",
    "path"
   ]
  },
  {
   "cell_type": "code",
   "execution_count": 3,
   "metadata": {},
   "outputs": [],
   "source": [
    "url = 'https://countyofsb.org/ceo/asset.c/4171'\n",
    "filename = 'FY_2020_21_Section_B_Executive_Summary.pdf'"
   ]
  },
  {
   "cell_type": "code",
   "execution_count": 4,
   "metadata": {},
   "outputs": [
    {
     "name": "stdout",
     "output_type": "stream",
     "text": [
      "document already in /Users/ezhang/Documents/**Fall 2020/TA - Data Skills for Policy/emily-discussion-notebooks\n"
     ]
    }
   ],
   "source": [
    "def get_pdf(url, filename, path):\n",
    "    response = requests.get(url)\n",
    "    with open(os.path.join(path, filename), 'wb') as ofile:\n",
    "        ofile.write(response.content)\n",
    "\n",
    "\n",
    "if filename not in os.listdir():\n",
    "    print('downloading document from {}'.format(url))\n",
    "    get_pdf(url, filename, path)\n",
    "else:\n",
    "    print('document already in {}'.format(path))"
   ]
  },
  {
   "cell_type": "code",
   "execution_count": 5,
   "metadata": {},
   "outputs": [
    {
     "name": "stdout",
     "output_type": "stream",
     "text": [
      "Number of pages: 24\n"
     ]
    }
   ],
   "source": [
    "def read_pdf(filename, path):\n",
    "    with open(os.path.join(path, filename), 'rb') as ifile:\n",
    "        pdf = PyPDF2.PdfFileReader(ifile)\n",
    "\n",
    "        print('Number of pages:', pdf.numPages)\n",
    "\n",
    "        pages = []\n",
    "        for p in range(pdf.numPages):\n",
    "            page = pdf.getPage(p)\n",
    "            text = page.extractText()\n",
    "            text = text.replace(\"™\", \"'\")\n",
    "            text = text.replace(\"\\n\", \"\")\n",
    "            pages.append(text)\n",
    "        \n",
    "        return pages\n",
    "\n",
    "pages = read_pdf(filename, path)"
   ]
  },
  {
   "cell_type": "code",
   "execution_count": 6,
   "metadata": {},
   "outputs": [
    {
     "data": {
      "text/plain": [
       "['                  Section B  Executive Summary ',\n",
       " '           ',\n",
       " \"Executive Summary B1 Adapting to an Unprecedented Pandemic  and Preparing for the ﬁNext Normalﬂ The COVID19 pandemic has caused a national recession, a sudden reduction in state and local revenues, and severe economic distress for businesses, families, community organizations and public agencies.  It has jeopardized the health of our communities and our economic livelihood.  As of the writing of the Recommended Budget, the County is still under the State Public Health Officer's ﬁStayatHomeﬂ Order, with very limited easing of restrictions.   In preparing this Recommended Budget, which began in November 2019 and was completed in early May to meet statutory requirements for public review, we lacked complete information on the extent and severity of the disruption to the County's Budget.  The Governor's May Revise of the State's budget demonstrates a deficit of $54.3 billion, and it will be several more months before the specific impact to our budget is known.  While the pandemic has caused seismic changes to our daily lives and economy, it is impossible to answer with certainty the essential questions of ﬁfor how longﬂ and ﬁhow severeﬂ from where we stand today. In the California Legislative Analyst's Office's Spring Fiscal Outlook Report, released in midMay, two scenarios are suggested: a ﬁUﬂshaped recession, where the economy would begin to see meaningful recovery this summer, with rapid activity beginning in the second half of 2021; and an ﬁLﬂshaped recession, where the economy would remain in a slump well into 2021 with gradual recovery starting in the second half of 2021.  The information in this Recommended Budget is based on assumptions that projected revenue losses, beginning in spring 2020 of the current year, continue in key local and State revenues through the first quarter of the upcoming fiscal year and taper down through the remainder of the fiscal year.  In addition, conservative estimates of funding have been assumed.    Our objectives have been to maintain current service levels to the extent possible (ﬁstatus quoﬂ levels of service) so as not to further harm members of our community; continue to fulfill Board commitments and priorities; and invest in initiatives that will help mitigate recessionary impacts and prepare for the next normal and recovery.  In this vein, cannabis tax revenue is being utilized to fill certain gaps created by increased COVID19 related expenditures and temporary decreases in key revenues.  In addition, onetime sourcesŠsuch as the County's Strategic ReserveŠare recommended to be used to support expenditures in certain areas to preserve service levels.  With the current level of uncertainty, combined with sufficient onetime revenue for backfilling losses and covering new costs, few ongoing budget reductions are recommended at this time.  However, the CEO's office intends to return to the Board in the fall with potential ongoing budget reductions to be taken at midyear should they be necessary.It is also worth noting that while all organizations are facing similar challenges, county governments are at the forefront of fighting the pandemic, expanding and intensifying health, public safety and safety net services, and leading emergency operations countywide.  Public Health employees have been working around the clock in this crisis, and at their side have been employees from almost every County department serving in various capacities to protect our residents. The total impact to the County for lost revenues and additional costs are estimated at $25.1 million in the FY 201920 year and $27.3 million in FY 202021, for a total of $52.4 million.  The County will seek FEMA reimbursement (75% allowed) where feasible, but the County has not yet received any direct funding from the federal government for COVID19 impacts or costs (although the Governor's May Revise proposes passing through funding for this purpose). \",\n",
       " \"Executive Summary B2 It is also important to emphasize that we enter this next recession with healthy reserves to draw upon to fill temporary revenue declines.  Through the Board's prudent contributions to our rainyday funds, restraint in spending cannabis revenue, and our fiscal discipline with minimal expansions of ongoing revenue in recent years, we are better prepared to face a downturn.  We now find ourselves in need of these funds to preserve essential services for our community.  Once the FY 202021 budget is adopted, we will turn our attention to updating the financial forecastŠevaluating, planning, and testing for potential economic scenariosŠand developing a contingency plan should COVID19 impacts and a recession appear to warrant midyear budget action.  Indeed, we anticipate returning to the Board one or more times during FY 202021 with budget revisions and for policy guidance as the full impacts of the pandemic play out.The following provides the basis of the recommended budget for FY 202021: Discretionary general revenues and special revenue fund revenues are expected to be impacted by COVID19.  Most of these losses are considered temporary, with the expectation that they will recover once the economy reopens.Service levels have been preserved and reductions have largely been avoided.   The Probation Department has reduced a Deputy Probation Officer position funded through SB 678, the California Community Corrections Performance Incentives Act of 2009, because the Stateprovided funding is no longer sufficient to sustain all funded positions.  The department does not request funding for this position and will attempt to manage the existing workload through rebalancing and redistribution efforts.Cannabis tax revenue will help mitigate the immediate impacts of the recession.  In addition to fully funding cannabis enforcement costs, as has been done every year, it has been used to backfill certain expected losses that could have resulted in service level reductions and potential layoffs in public safety and social services departments.  Specifically, cannabis tax revenue is recommended to enhance County funding to libraries to preserve current levels of services and prevent reductions in hours or closures, to backfill anticipated COVID19 related losses in State revenue for public safety and social services departments, and to support new disaster costs related to COVID19.  The remaining unallocated cannabis tax revenue totals approximately $875,000.  It is recommended that these remaining funds be considered to support the cannabis program to ensure success and the continuity of the revenue stream, for onetime critical expenditures, or to be set aside to backfill revenue to preserve service levels should that become necessary.Budget expansions have not been granted to any department.  In prior years, expansions were included in the recommended budget to meet mandates, address potential regulatory issues, and address critical organizational needs.  However, given the uncertainty surrounding COVID19 cost and revenue impacts on \",\n",
       " \"Executive Summary B3 both countywide discretionary revenues and departmentspecific revenues, expansion requests that would require ongoing General Fund commitmentŠsome of which might otherwise have been warrantedŠare not being recommended for funding at this time.  Departments have submitted requests for General Fund budget expansions totaling $12.7 million in ongoing funding, $4.3 million in onetime funds, and additional staffing of 59.5 FTE.  Requests for use of cannabis tax revenue total $1.5 million in ongoing funding, $341,000 in onetime funding, and 8.0 additional positions.Adherence to budget development policies continue. These policies were adopted by the Board in December and set guidelines for departments to follow while developing their budget requests.  Some policies called for contributions to reserve accounts for specific purposes, and the recommended budget reflects those allocations:o$500,000 has been set aside for Americans with Disabilities Act (ADA) improvements.  The County maintains a rolling fiveyear prioritized list of improvements that need to be made within Countyowned facilities to enhance the County's compliance with the ADA.o$2,000,000 has been set aside in the Technology Replacement and Investment Fund to address critical countywide and multidepartmental information technology project needs.  In FY 201920, the adopted budget established a Technology Replacement and Investment Fund account with an initial $2.0 million contribution.  The intent of this account is to address the growing need for updated technology infrastructure, security, and data storage capabilities across the County.  This need is greater than ever as the COVID19 pandemic has accelerated the transition to digital and online solutions.Maintain strong reserves to weather current year and future year losses in discretionary revenues.  Our Strategic Reserve and Contingencies accounts are our first lines of defense against unanticipated State budget impacts, COVID19 impacts, and a recession.  Although we had hoped to increase the Strategic Reserve balance to 9% of the annual General Fund operating budget to prepare for a future recession, we are unable to recommend this increase in FY 202021 because $3.8 million from the account is needed to backfill a portion of Social Services Realignment revenue losses.  This draw is offset by a $3.1 million contribution back to the account, which will bring the balance up to the 7.6% level.  A $2 million increase in the Contingencies account balance is also recommended, to bring the balance to $5 million from $3 million in the current year. Essential Priorities and Commitments for the Future In FY 201920, major milestones will have been met: the Northern Branch Jail construction is nearly complete; the Fire Tax Shift will reach its funding target of 17% of property tax revenues; the Tajiguas Resource Recovery project will make significant progress in construction; pension costsharing resulted in a net reduction to pension contribution costs, and will be fully implemented next year after three years; and major capital improvement projects received funding.In the next few years, as we navigate the recession caused by the pandemic, the County will need to focus on the essential priorities of health and safety, and ways to position the County in the ﬁnext normalﬂ or life after the pandemic, through revenue enhancement, cost savings, and new ways of operating.  The following are initiatives that were established in the prior years that will be continued or implemented in FY 202021:Northern Branch Jail will commence operations.  The construction of the Northern Branch Jail is expected to be completed in the summer of 2020, with operations commencing by midyear.  The annualized operating cost is currently estimated at $20.4 million, and includes staffing costs to operate and maintain the facility, as well as costs for inmate medical services, food, utilities, and other necessities.  The operations \",\n",
       " \"Executive Summary B4 funding plan is currently structured to ensure sufficient funding for the next several years, but given the escalation of project construction and operating costs over time, the plan will likely need to be revised to extend the timeline to achieve adequate ongoing funding.  Evaluation of the staffing needs of the combined jail operations also will occur given the census of the jail during the COVID19 emergency. This is discussed more fully later in this section. ReSource Center:  Formerly known as the Tajiguas Resource Recovery Project, the ReSource Center project will convert commercial and residential waste into resources by recovering recyclable materials, transforming organics into landscape nutrients, and creating renewable energy in the process.  With this new technology, approximately 60% of additional waste from our trash cans will be diverted from the landfill, bringing our region's diversion rate above 85% while significantly reducing greenhouse gas emissions.  The facility broke ground in December 2018 and is anticipated to open in early 2021. Major capital projects will be initiated.  Highpriority capital projects were identified in early 2019 for Certificate of Participation (COP) funding, and COPs are expected to be issued within the next year.  Funding for debt service payments is carved out in the recommended budget in anticipation of this issuance and projects will be brought to the Board for necessary approvals.oPublic Safety Radio Replacement: The need for replacement of the public safety radio system has been included in the fiscal issues report with a potential price tag of around $45 million.  The County of Santa Barbara has a diverse radio communications environment, with several different land mobile radio systems deployed to meet specific operational needs of County departments.  These systems, which together make up the County's Public Safety Radio Network, have varying technologies and capabilities.  The County needs to replace the Public Safety Radio Network as it is at the end of its useful life.  The replacement network must meet public safety standards for performance and reliability and provide robust radio communications for the next 10 to 20 years.  The County will consider consolidating systems where it can provide efficiencies and reduce operating costs.  COPs are likely the most costeffective funding option for this project, but the project will also require a significant upfront cash investment to fund certain components of this project that don't lend themselves to longterm financing, such as assets with shorter useful lives.  The recommended budget includes the set aside of onetime sources to build up the necessary cash balance.oProbation Department Headquarters:  This project will consolidate operations by combining Probation Administration and Adult Services with the Probation Report and Resource Center and Juvenile Services.  This consolidation would result in an estimated annual savings of approximately $350,000.  In addition, it would remove a large amount of deferred maintenance needs due to the age of the existing facilities.  The total cost is estimated at $17.5 million, $2.1 million of which will be contributed by the Probation Department using earmarked funds.oMain Jail Renovations: The Main Jail facilities and infrastructure are aging and severely deteriorated as documented by reports, studies, and maintenance records.  The result is an estimated, on average, $260,000 in emergency repairs annually.  The renovation project will address egress issues, ADA modifications and repairs, paths of travel enhancements, seismic upgrades, medical and mental health modifications, housing unit upgrades, classroom/program space additions, security upgrades, and address overall deferred maintenance.  This project would be completed in two phases, with a total estimated cost of $24.6 million.oCachuma Lake Park Infrastructure Upgrades: This project will renovate the RV Park campsites at Cachuma Lake and includes elements designed to address deferred maintenance and improve the \",\n",
       " \"Executive Summary B5 economic competitiveness and desirability of recreational opportunities while delivering increased revenues of an estimated $450,000 per year.  This project has a total estimated cost of $12 million.oEmergency Operations Center Expansion: This project will expand the existing EOC structure to provide space for a call center, a redesigned area for the Joint Information Center, as well as new space for the Fire dispatch center.  Cost estimates are currently being refined, but will likely exceed $10 million.Criminal Justice System Partnerships: Criminal justice partners and Behavioral Wellness continue to implement major initiatives to reduce the numbers of mentally ill individuals entering the criminal justice system and increase referrals to appropriate mental health services.  The County has received four major grants to support these efforts, including two mental health diversion grants (one funded through the Department of State Hospitals and another funded through the Bureau of State and Community Corrections (BSCC), which includes funding for a sobering center), a BSCC Edward Byrne Memorial Justice Assistance Grant (JAG) Mental Health Training Grant, and a Homeless Emergency Aid Program grant.Internal Process Improvement and Innovation Efforts:  We have embarked upon several initiatives designed to reimagine how we do business to ensure our activities align with our mission to deliver exceptional services.  Now, responding to the COVID19 emergency and beyond, these initiatives will help us address the ﬁnext normal.ﬂoDepartmental Management Reviews: KPMG consultants continue to conduct highlevel assessments of departments to identify strengths and opportunities for improvement as part of the Renew ‚22 initiative.  Three of these reviews have been presented to the Board, four are in process (though currently on hold because of COVID19), and the remaining two under the current contract, which were anticipated to be completed by July 2020, will be delayed because of COVID19.  These reviews will focus on what departments can do in the near term to adjust to potentially reduced revenues and different ways of operating.  The County anticipates that the balance of departmental management reviews will be completed within the next two fiscal years.oBusiness Applications Needs Assessment (BANA): The County has initiated preparations for a countywide business applications needs assessment to review the current status and needs of the County's digital business systems.  This is the first step towards evaluating the need to replace major technology systems with a more integrated and modern solution.oRenew ‚22 Big Picture Goals: The Renew ‚22 Executive Team established a set of Big Picture Goals that are shared across all departments. These goals are intended to drive systemic change by focusing departments' efforts on countywide initiatives to meet all four components of Renew '22.  Department specific application of these goals are included in the recommended budget book.  Some tasks are on hold because of staff availability during the COVID19 emergency; however, it remains a necessary strategy to accelerate agility, innovation and improvement to address impacts of the emergency on our organization and community.oProcess Improvement and Innovation Training: In late 2019, the first cohort of ﬁblack beltﬂ trainees completed an intensive weeklong training conducted by representatives from the Denver Peak Academy, a nationally recognized process improvement and innovation group established in 2011 that, at last count in 2017, has saved the City and County of Denver more than $25 million in soft and hard costs.  The County Executive Office is leading the development of a process improvement and innovation training program in the County, with a goal of training 225 employees by June 2022.\",\n",
       " 'Executive Summary B6 COVID19 RecessionRelated Impacts and CostsOur biggest unknowns are the length and extent of the COVID19 impacts, as well as to what degree federal or State governments will assist local governments.  The one certainty is that the pandemic will impact our finances on both the revenue and cost sides.  FY 202021 represents the second year of COVID19 impacts on our revenues and expenditures; in FY 201920, impacts are expected to reach $25.1 million.  Estimated FY 202021 impacts are summarized in the table below. Total revenue losses are anticipated to reach $21.7 million in FY 202021. oDiscretionary Revenues: Our primary discretionary General Fund revenue sources are property taxes, sales and use taxes, and transient occupancy tax (TOT).  Economically driven revenues, including TOT, sales taxes, and gas taxes, will be especially susceptible to losses resulting from decreased tourism and decreased retail activity.  Once the economy begins to reopen, these revenues are expected to recover over the next two fiscal years.  Cannabis tax revenue, which is considered relatively recessionproof, is not expected to decline and is becoming a significant source of revenue, projected to contribute more than sales taxes next year and nearly as much as TOT.  Property tax revenues, which make up nearly 80% of our total discretionary revenues, are not expected to be immediately impacted by COVID19, though there could be a lagging impact in future fiscal years, specifically related to reassessments of commercial properties that receive revenuebased appraisals. oRealignment and Proposition 172 Revenues: In addition to the general sales tax considered a discretionary revenue, an additional 2% of sales goes to the State for allocation back to the cities and counties to fund public safety needs and safety net services (through 1991 and 2011 realignment and Proposition 172 funds). In addition, 0.75% of sales goes toward county and city roads and transportation.  In total, this generates over $100 million from Santa Barbara County; most go directly to the State for allocation back to the County.  Current estimates are a loss of approximately $10.6 million in realignment revenues and $3.6 million in Proposition 172 revenue for FY 202021.  Expected temporary losses in these areas have been backfilled with cannabis tax revenue, Strategic Reserve, a portion of the Southern California Edison (SCE) settlement monies, prioryear carryover fund balances, as well as the use of departmental fund balances.The Department of Social Services (DSS) will be particularly impacted by realignment revenue losses.  Realignment revenues support programs and services such as InHome Supportive Services, cash ',\n",
       " \"Executive Summary B7 assistance payments for foster care and adoptions, and child welfare services.  As the revenue shortfalls are expected to affect realignment revenue receipts from March 2020 onward, DSS plans to use all available reserves to cover FY 201920 yearend deficits, requiring other funding for the FY 202021 anticipated shortfall.  To backfill these anticipated temporary losses and avoid service level reductions, particularly child welfare services which would have borne the largest direct financial impact, the Recommended Budget includes an additional allocation of General Fund totaling $10.8 million, including cannabis tax revenue, Strategic Reserve, SCE settlement monies, and prioryear carry0ver fund balance.oTransportation funding: Public Works relies on three major revenue sources to support operations and transportation projectsŠSB 1 gas tax, HUTA (highway users tax), and Measure A.  These funding sources are generated through a pergallon tax on gasoline sales (SB 1 and HUTA) and a onehalf percent sales tax (Measure A).  As residents forgo local travel and tourism declines, key revenues supporting critical Public Works activities decline. Current estimates of transportation revenue losses total $3.9 million in FY 202021.  These expected decreases have been mitigated through the shifting of the 18% deferred maintenance fundingŠfor one year only and only to the extent necessaryŠto support Public Works operations, as well as the use of departmental fund balance.  The planned use of this departmental fund balance is of concern because it would leave the transportation funds with minimal reserves for equipment replacement and contingencies.oAdditional departmentspecific revenues: Though not quantified, revenues dedicated to specific department services generated through fees for services or reimbursements are also at risk of decline. Should demand for land use planning, park usage, or ClerkRecorder functions decrease, for example, so would the revenues that offset the costs of providing the services and pay for a portion of overhead to support department and countywide central services, which must continue regardless of service levels.  In addition, if CPI slows or declines, this would impact some fee schedules, resulting in costs to provide services outpacing revenues generated.  Behavioral Wellness Mental Health Services Act (MHSA) revenues are generated through a 1% tax on earnings of more than $1 million in personal income to provide funding for mental health services and programs; if personal incomes decline in California, this revenue source will also decrease.  Behavioral Wellness will exhaust all reserves as well as draw $2.4 million in funds set aside for mental health services in General County Programs to maintain services within the MHSA fund.Direct COVID19 related costs are expected to reach $5.6 million in FY 202021.  The anticipated pandemic response costs are described below.  Greater costs may be incurred during the year depending on the status of testing and containment efforts, the pandemic's trajectory in the fall when a second wave of infection may occur, availability of state and federal assistance, and ability to mitigate local economic impacts once stayat home orders are loosened.  oAlternative Care Sites: These are facilities that temporarily house patients with COVID19 to remain and receive medical care to reduce the burden on hospitals and other medical facilities in the event of a local surge in infections.  The establishment and maintenance of these sites is expected to cost $2.8 million in FY 202021. oEmergency and Public Health Response: The County has staffed the emergency operations center and Joint Incident Command to manage logistical, financial, and public informationrelated aspects of the pandemic response.  In addition, the Public Health Department Operations Center coordinates and controls all actions specific to public health emergency response.  Across other departments, including first responders and employees who have been working on other aspects of response, significant overtime costs have been and will continue to be incurred.  The total cost of emergency and public health response is expected to reach $1 million in FY 202021.\",\n",
       " \"Executive Summary B8 oTemporary Shelter and Accommodations: Temporary accommodations for atrisk homeless individuals have been established pursuant to the State's Project Roomkey.  These costs are expected to reach nearly $0.9 million in FY 202021.oCOVID19 testing and contact tracing: The cost of testing and contact tracing is estimated at $0.8 million in FY 202021.oPaid leave time provided to employees: To comply with the employee paid leave provisions of the Families First Coronavirus Response Act, County employees have been given a bank of paid leave hours for specified reasons related to COVID19.  This benefit is expected to cost $0.3 million in FY 202021.In some areas, we expect that demand for certain services, particularly safety net services, may increase as a result of COVID19 impacts.  We expect that state and federal revenues will cover a portion of these increased costs, but there also will be a local share of costs.  Additionally, potentially compounding the costs discussed above, as response activities grow, many County employees who work under categorical grant programs may be redirected to the COVID19 response.  These employees will therefore not be drawing down program revenues to support their costs, creating unfunded local costs. We are working closely with legislative advocates and industry groups to advocate for and secure reimbursement funding to cover the local portion of COVID19related revenue losses, cost increases, and economic recovery assistance. Continuing Challenges and Issues Legislative and Policy Changes: When federal and state legislation is enacted, there can be significant impacts on our county departments.  The State will sometimes provide funding sources to cover new mandates or backfill losses in funding, and other times the State does not establish any funding mechanism to address changing or increasing responsibilities, in which case the County or specific departments will engage in advocacy efforts to address the unfunded mandates through industry groups or local lobbying initiatives.  However, particularly at the beginning of new legislative requirements taking effect, departments often find themselves without the additional resources necessary to address increased demands on their staff workload and responsibilities.  Some departmentsŠincluding District Attorney and Public DefenderŠhave included budget expansion requests to address the associated increases in workload.Deferred Maintenance: Departments continue to struggle with addressing deferred maintenance for parks, roads and county facilities.  In response to growing deferred maintenance needs, the Board developed a funding policy, effective in July 2015, providing a mechanism to increase ongoing funding available for maintenance projects.  The policy commits 18% of unallocated discretionary general revenue growth to address maintenance needs on an annual basis, thereby increasing the ongoing funding every year that experiences growth in discretionary revenues.  The recommended budget allocates $8.1 million in ongoing General Fund revenues to deferred maintenance per the 18% formula in FY 202021, reflecting growth of $1.7 million from the current $6.4 million ongoing level.  Despite the annual growth anticipated in funding, the backlog of deferred maintenance projects countywide remains at over $450 million, leaving a very significant gap between allocated funding and the current need.\",\n",
       " \"Executive Summary B9 Aging Technology Systems: The County relies upon hundreds of technology systems to support operations throughout County departments.  Some systems have now reached the end of their useful lives and are in need of upgrade or full replacement; other systems are no longer able to meet the complex demands of the County's business operations.  The launch of the BANA project and the continued contribution to the Technology Replacement and Investment Fund are a step towards addressing this major need.  As much of the County workforce has moved to telecommuting during the pandemic, it has become readily apparent that the county's technology is inadequate.  If we are forced to use technology to compensate for the efficiencies of inperson operations, our systems must be upgraded.Facility Conditions and Office Space Reconfiguration:  Many, if not all, county departments have some degree of need for facility upgrades, space reorganizations, or other office spacerelated improvements because of our aging facilities, which either have not been consistently maintained or no longer meet the requirements of today's modern work demands.  General Services compiled an inventory of needs, a prioritization system, and a plan to systematically address the identified deficiencies, conditions, and space needs, which were used to prioritize projects for funding during the development of the General Fund portion of the Capital Improvement Plan.  Department requests for facility upgrades or enhancements submitted through the CIP process were reviewed and prioritized according to established criteria.  Funding is generally recommended to be allocated to projects involving ADA enhancements, physical security enhancements, energy retrofits, or priority roof and parking lot improvements. Recruitment, Retention, and Succession Planning: While the focus of recruitment has changed due to the pandemic emergency, the longer term issue remains and has become more critical.  The tight labor market, high cost of housing in the County, and expected retirement of experienced workers add to the challenge. The FY 201920 adopted budget included the addition of two new recruiter positions in the Human Resources Department to address the need for timely recruitments.  HR has, so far, reduced the average recruitment cycle time from the prior year's average and streamlined recruitment processes through technology and automation. The County continues to address this challenge in FY 202021 through HR's programs and modernization efforts as well as the Renew ‚22 Big Picture Goals.  Given the pandemic, recruitments have slowed as HR prioritizes filling essential positions needed for the response efforts.  In addition, HR and the CEO's office have instituted a review of department hiring to ensure only the most critical needs are being filled given the level of economic uncertainty. Jail Staffing:  In 2019, the County contracted with Justice Planners to refresh a jail staffing study performed by CGL in 2015 that provided recommended staffing levels for the Main Jail and Northern Branch Jail (NBJ). The update incorporated new information, such as the creation of the Sheriff Service Technician (SST) job classification and the plans to renovate the Main Jail, which was not known at the time of the 2015 CGL report. It also updated the relief factor calculation for all positions that require shift relief, which had not been updated since a 2013 study by Crout & Sida. The final Justice Planners report provides a range of recommendations for increased staffing needs at the Main Jail during renovations there, as well as longer term recommended staffing at both facilities after Main Jail renovations are complete. However, with the jail population at historic lows, and given the current fiscal restraints due to COVID19 impacts, this recommended budget does not include additional staff at this time.  If the Sheriff is not able to maintain the current low jail population levels, additional staffing will be needed.  After renovations are complete, and some design efficiencies are achieved and sections permanently closed at the Main Jail, the recommended staffing is only 11 sworn staff above current funding, and 12 nonsworn.  The study also finds that the NBJ could potentially reduce the currently funded level of Custody Deputies by using SSTs in certain places instead.  The net recommended staffing at the NBJ is only 2 FTE more than what's currently funded, with a recommended increase of 7 nonsworn staff and a decrease of 5 sworn staff.\",\n",
       " \"Executive Summary B10 Preparing for the ﬁNext NormalﬂA daunting challenge ahead for all of us is responding to an unknown and uncertain future while positioning our organizations to act quickly once the crisis subsides. Reimagining our future requires that we adopt new practices, be more responsive and resilient, and rethink what the public needs and expects of us.  This is an acceleration of Renew '22, which was set in motion to fortify the organization to be prepared for the next economic or natural emergency.  That event is occurring now.  This coming year, we will continue to follow responsible fiscal practices in an effort to buffer the County's finances from COVID19 impacts but are making adjustments to prioryear practices in light of the disaster.  As discussed earlier, due to the uncertainty of federal, state and local revenues, some temporary adjustments to these practices are being made until there is greater clarity. Ensure use of onetime funds for onetime (not ongoing) uses.  If revenue losses are expected to continue beyond two years then accompanying expenditure reductions should occur and will be recommended.  For now, certain revenue losses are anticipated to be temporary in nature, and there is sufficient revenue uncertainty that it would be premature to enact service level reductions; therefore, onetime revenues are being used for a shortterm bridge.   Allocate cannabis revenue, after enforcement costs, to onetime uses. The County has practiced this approach to curtail ongoing program expansions, other than those related to cannabis regulation or enforcement, until there is stability of cannabis operations in the County and market impacts are known.  In FY 202021, onetime revenue is being used to support core services to mitigate COVID19 impacts on revenues and expenditures until more is known from the State and federal governments. Maintain the Strategic Reserve funding at close to target level.  The FY 202021 recommended budget places the reserve at a 7.6% balance (compared to a target level of 8% of the operating budget), which represents the net impact of diverting $3.8 million of the balance to backfill DSS Realignment revenue losses and a $3.1 million replenishment per Board policy to reach a balance of $33.7 million.  This may be used to further backfill revenue losses if midyear budget reductions are required. Enhance the Contingency fund by $2 million, bringing the balance from $3 million to $5 million, which will be used similarly to the Strategic Reserve balance, as a first line of defense against midyear budget impacts. Reduce discretionary General Fund revenue estimates to prevent overcommitting of revenues in the face of losses in discretionary revenues resulting from COVID19 impacts. Continue to invest in large multiyear initiatives, including setting aside funding in areas that have been identified by departments as highest priority, such as technology enhancements and capital needs to improve efficiencies and offset costs. Continue efficiencies and process improvements, and training employees to be able to identify and implement opportunities for improved operations and innovative solutions. Seek grant opportunities and better grant coordination.Partner with other departments and agencies.\",\n",
       " 'Executive Summary B11 Budget SummaryThe recommended budget for FY 202021 is balanced, with total operating revenues of $1.19 billion and total operating expenditures of $1.19 billion. Operating expenditures include both ongoing and onetime costs, and ongoing costs are largely supported by ongoing revenues.  The FY 202021 recommended budget includes fulltime equivalent (FTE) staffing of 4,304.Operating Revenues: All FundsOperating revenues for all funds total $1.19 billion, reflecting an increase of $38.7 million or 3.4% from the FY 201920 adopted budget.  The chart below identifies the major categories of county revenues. ',\n",
       " \"Executive Summary B12 Operating Revenues  All Funds, $1.19 BillionOperating Revenues by Category Revenues from taxes are projected to increase by $21.2 million or 6.3% from the FY 201920 adopted budget for total recommended tax revenue of $358.8 million, making up 30.2% of operating revenues in all funds.  The primary drivers of the increase are Secured Property Tax, Property Tax InLieu of VLF, RDA Property Tax Trust Fund (RPTTF) residual distributions, and cannabis tax revenue.  Despite losses expected in sales taxes and transient occupancy tax, strong property tax and cannabis tax growth is expected to result in net growth in the taxes revenue category.  However, once the final assessed valuation roll is filed by the ClerkRecorderAssessor's Office, we will reevaluate property tax revenue projections.Countywide, Secured Property Taxes are projected to increase by $11.2 million or 5.4% and are received by the County's General Fund, Fire Protection District, and Flood Control Districts as well as various minor funds. The projected growth in the County General Fund is $7.2 million and reflects an increase of 5.1% over the FY 201920 adopted budget.  Property Tax InLieu of VLF is projected to increase by 5.5% or $3.2 million from the prior year.  RDA RPTTF residual distributions are expected to grow by $1.4 million, a 13.3% increase from the FY 201920 adopted budget due to normal growth, and cannabis tax revenue is expected to increase by $5.0 million or 89% from the prior adopted budget. Use of Money and Property is expected to increase by $2.5 million or 32.5% and includes interest income, revenue from building and land leases, and revenues from public phone and vending machine use.Intergovernmental Revenues include State, federal, and other governmental sources and are projected to increase by $2.9 million or 0.7% to $410.5 million.  Though we anticipate large increases for Homeless Emergency Aid Program (HEAP) grant funding and the National Resources Conservation Service (NRCS) funding for the Santa Monica Debris Basin, these expected increases are significantly offset by COVID19 related losses in transportation funding, Realignment revenues, and Proposition 172 public safety revenue.\",\n",
       " 'Executive Summary B13 Charges for Services are expected to grow by $6.3 million or 2.0% over FY 201920 adopted budget levels.  The growth is spread across many different sources, including increases in certain feebased revenues as well as cost allocations for administrative and other services, offset in part by anticipated losses in MediCal revenue due to COVID19 impacts. Fines, Forfeitures, and Penalties are projected to increase by $0.8 million or 9.8% from the FY 201920 adopted budget, reflecting anticipated increases in property tax penalty revenue.Miscellaneous Revenues are expected to grow by $3.6 million or 7.7% from the FY 201920 adopted budget.  These revenues include numerous sources that do not fall into specific categories, with increases driven largely by insurance premium contributions. Revenues by FundThe majority of revenues are derived in the General Fund and Special Revenue Funds. The General Fund is the chief operating fund of the County, and Special Revenue Funds are typically used when revenues are restricted for specific purposes, such as gasoline tax for road maintenance or specific funding for food stamp programs. A description of Government Funds can be found in Section F, Annual Budgetary Processes, Policies and Fund Structure.  The chart above displays FY 202021 operating revenues by major fund, the largest of which is the General Fund, making up 37% of countywide revenues.  The General Fund can be further broken down into Discretionary General Revenues and Other Revenues.Local Discretionary RevenuesThe FY 201920 recommended operating revenues across all funds are $1.19 billion.  Of these total revenues, the Board of Supervisors has complete discretion over the allocation of about 25% or $300.5 million, which is made up primarily of property tax revenues.  This local discretionary revenue is allocated out to departments as General Fund Contribution (GFC), with 90% to General Fund departments and 10% to other funds.  GFC funds services that do not have alternate funding sources, including administrative costs, and, in Special Revenue Funds, often serves as match funding for State and federal sources. The table below summarizes the General Fund discretionary revenues anticipated in FY 202021 and compares them with prior fiscal years.  Property taxes, sales taxes, and Transient Occupancy Taxes (TOT) are three major local sources of revenue generated based on the performance of the local economy.  Significant property taxes (including secured, unsecured, InLieu of Vehicle License Fees, and property transfer taxes) make up 77% of total discretionary revenues. ',\n",
       " \"Executive Summary B14 In the recommended budget, local discretionary revenues increased by $24.5 million from the FY 201920 adopted budget, for a total of $300.5 million.  This increase is most notably from property taxes, cost allocation charges, and cannabis tax revenue.FY 201819 through FY 202021 Discretionary Revenue(in millions)* Significant Property Taxes include, but are not limited to, secured and unsecured property taxes, property taxes inlieu of vehicle license fees, and fines and penalties.The main drivers of discretionary revenue change are as follows:  Property Taxes Property values are a key component of the local economy, and modest growth is expected to continue, thereby providing increased property tax revenue.  Property taxes are the largest source of discretionary funds in the County's budget.  The FY 202021 recommended budget of $241.7 million reflects net growth of 8.9% or $24.5 million over the FY 201819 adopted budget of $227.9 million, which is in line with trends showing that FY 201920 actual property tax revenues will come in higher than the adopted budget level. Local Sales Tax Local sales tax represents the local portion of the retail sales tax collected by the State from sales generated within the unincorporated areas of the County.  Retail sales tax is an economically sensitive revenue source that is used to support the general operations of the County, and is expected to decrease by $644,000 from the FY 201920 adopted budget, and a $1.0 million decrease from earlier projections for FY 202021 receipts, due to COVID19 impacts on the economy. Transient Occupancy Tax (TOT) This source of revenue is highly dependent on tourism and the quantity of lodging in the unincorporated County.  TOT is expected to decrease by $819,000 from the prior year adopted budget in FY 202021 due to COVID19 impacts on the economy, and reflects a total decrease of almost $2.0 million from earlier preCOVID19 estimates for FY 202021. \",\n",
       " \"Executive Summary B15 Cannabis Tax FY 202021 will be the third year of cannabis tax generation for the County.  Receipts are expected to increase by 89% to $10.6 million in the recommended budget.  These taxes fully fund enforcement operations as well as backfilling anticipated COVID19 related temporary losses in Proposition 172 revenue and covering onetime costs associated with the pandemic response.  Enforcement costs are increasing to reflect general salary and benefit increases.  The County Executive Office's budget for FY 202021 also includes an additional $150,000 to fund a cannabis tax enforcement audit.  Tax revenue resulting from retail storefront cannabis operations will not materialize until FY 202122 as the process is currently in development and the first permits and licenses aren't anticipated to be issued until spring of 2021.  The County's business license ordinance allows for six retail storefront operations, one in each community plan area.   All Other Discretionary RevenuesThis category is made up of Franchise Fees, Interest Income, State, and Federal Payments.  These revenues are expected to increase by $897,000 or 12.4% in the FY 202021 recommended budget, due mainly to increased interest income and property tax penalty payments. Operating Expenditures: All FundsSignificant Changes from FY 201920 Adopted BudgetThe County's recommended FY 202021 operating expenditures are $1.19 billion, a $50.3 million or 4.4% increase over the FY 201920 adopted budget of $1.14 billion. Salaries and benefits show a projected 3.7% increase of $23.3 million; services and supplies are expected to increase by $19.2 million or 5.4%; and other charges are expected to increase by $7.8 million or 5.4%.  The table below identifies significant categories of these expenditures.\",\n",
       " 'Executive Summary B16 Significant Changes from FY 201920 Adopted Budget(in millions) Salaries and Employee BenefitsRecommended salary and benefit costs of $660.4 million in FY 202021 represent the combined impacts of the addition of 49.2 FTEs, negotiated salary increases, and employee benefit cost increases. The increase in FTEs is primarily driven by Probation (9.7 FTEs), Planning and Development (8.0 FTEs), General Services (5.0 FTEs), Sheriff (5.0 FTEs), and Social Services (5.0 FTEs). Staffing additions are largely attributable to new revenue sources such as grants or State funding, assumption of responsibility for work previously performed by another agency, or efforts to improve operations and service delivery.  For example, Probation took over the Pretrial Assessments program from the Courts, and accordingly, received additional FTE and funding. Each department gives a detailed breakdown of the changes in their FTE counts in Section D of this book. The total cost per employee is projected to increase by 2.6% to $153,600 in FY 202021. The chart below illustrates the trend in County staffing levels and costs.',\n",
       " 'Executive Summary B17 Staffing Levels and Costs, FY 201617 to 202021Regular Salaries and Benefit Costs per Employee, FY 201617 to 202021 ',\n",
       " \"Executive Summary B18 Retirement ContributionsThe County's net retirement contribution increases by $8.8 million or 6.1% from the FY 201920 adopted budget. Retirement cost sharing between the County and employees was negotiated and implemented in FY 201819; the first full year of implementation of cost sharing provisions followed in FY 201920. The County's retirement contribution grows by 7.4% to $159.2 million in FY 202021; however, employee costsharing will offset this growth by $7.5 million.  Each year, SBCERS sets its rates based on an assumed rate of return; should actual rates of return not meet expectations, the result is increased retirement contributions in future fiscal years.  The market impacts of the COVID19 pandemic raises the likelihood that SBCERS will not achieve the assumed rate of return built into the FY 201920 rates, which would have an impact on the County contribution rates in FY 202122, but would not impact FY 202021 rates.  Countywide Retirement Contribution, FY 201617 to FY 202021Note:  The significant increase from FY 201718 adopted to FY 201819 adopted was the result of an accounting accrual and does not reflect a significant change in staffing or retirement contribution rates.Northern Branch Jail Construction and OperationsThe Northern Branch Jail Project is located outside the City of Santa Maria, California; when completed, the facility will provide capacity to hold 376 individuals, of which 32 beds are to be reserved in a separate housing unit for individuals with medical and mental health challenges.  The entire jail complex is composed of several buildings totaling approximately 139,000 square feet for inmate housing and ancillary support functions. The County continues construction of the new jail, to be completed in the summer of 2020.  The Northern Branch Jail project represents a significant ongoing commitment of future General Fund revenue. While the State provided a majority of the funding for construction through an AB 900 grant, the ongoing operating costs are the responsibility of the County General Fund, and are currently estimated at $20.4 million for the first full year of operations (FY 202021), with annual increases in future years. These costs are higher than original operating cost estimates, developed almost 10 years ago, mostly due to a higher cost for medical services contracted at the jail than assumed in original estimates. The County recently changed to a higher cost service provider at the \",\n",
       " \"Executive Summary B19 Main Jail, for a higher level of service, and that same provider will also be contracted to provide services at the Northern Branch Jail. By adding incrementally higher amounts of GFC each year to a dedicated jail fund, we are slowly building towards the annual funding amount needed to operate the new jail.  As shown below, $14.9 million is allocated to this fund in the FY 202021 budget, building upon the balances contributed in prior years. The fund balance at yearend is estimated to be $5.6 million.  A draw of $7 million was made from the fund in FYs 201819 and 201920 to provide additional funds for construction as costs continue to exceed original estimates for a variety of reasons, including the project architect's withdrawal and subsequent bankruptcy filing.  Funding was needed to continue towards project completion, while insurance recovery is being pursued. A negative $0.7 million balance is shown at the end of FY 202223, but if money is recovered from insurance and returned to the fund, this will become positive. However, the total GFC set aside by that time, $19.3 million, is $2.3 million less than the currently projected operating costs in that year, meaning it is likely that the funding plan will need to be extended a couple more years to achieve parity between GFC and Operating Costs. Better projections can be made after a full year of operations at the NBJ.Plan for Future Jail Operations Funding Capital ExpendituresThe County has a large list of capital items, both funded and unfunded, including new capital improvements and capital replacement of systems to address significant deferred maintenance.  The Board of Supervisors approved a list of priority capital projects for which to pursue debt financing through issuance of Certificates of Participation (COP) in FY 201920.  The project costs and COP revenue are not included in the recommended budget, but the budget does include anticipated debt service obligations.  A complete summary of projects and recommended appropriations for capital expenditures can be found in Section E of the recommended budget book. All Funds Operating Expenditures by Functional AreaChanges in department operating budgets are presented in the table below, grouped by functional area.  Increases or decreases of more than $1.0 million are explained by department below the table, and all significant department changes are explained more fully in the department detail pages in Section D of this book. \",\n",
       " 'Executive Summary B20 Total Operating Expenditures by Functional Group and Department ',\n",
       " \"Executive Summary B21 Significant Changes by Functional Group and Department Policy & Executive County Executive Office: The FY 202021 recommended budget increases by $1.5 million from the FY 201920 budget, primarily reflecting increases in general liability and workers' compensation insurance premiums and the COVID19 response from the Office of Emergency Management. Public Safety District Attorney:  The FY 202021 recommended budget increases by $1.2 million, primarily due to union negotiated increases in salary and benefits and increases in general liability insurance costs. Fire:  The FY 202021 recommended budget increases by $4.3 million, primarily due to salary and benefit increases. Probation:  The FY 202021 recommended budget increases by $3.0 million, primarily due to the addition of 9.7 FTEs, increased salary and benefit costs due to assuming responsibility for Pretrial Assessments, and increases in Professional and Special services for additional grant contracts. Public Defender:  The FY 202021 recommended budget increases by $1.3 million, primarily resulting from salary and benefit increases and increased general liability costs. Sheriff:  The FY 202021 recommended budget increases by $10.4 million primarily due to annual salary and benefit increases, an increase in inmate medical costs that coincide with the addition of the Northern Branch Jail to CFMG medical contracts, increased liability costs, and increased Information Technology costs in the Northern Branch Jail. Health & Human Services Behavioral Wellness:  The FY 202021 recommended budget increases by $2.2 million, primarily due to increases in contracted services for grants and rate increases in Medical Malpractice and General Liability insurance premiums.  Public Health:  The FY 202021 recommended budget increases by $2.1 million, primarily due to general salary and benefit increases, cost increases for contract and specialty physicians, increased costs for immunization services, services for the homeless, and utilities. Social Services: The FY 202021 recommended budget increases by $4.6 million due to salary and benefit increases, including the addition of 5.0 FTE in InHome Supportive Services with State funding, as well as increases in Maximum Aid Payment and an increase in client payments for Child Care and Housing support programs.  Community Resources & Public Facilities Public Works:  The FY 202021 recommended budget increases by $7.7 million due to increases in Transportation Road Map projects, salary and benefit increases, capital project increases, and increases to various areas of Services and Supplies, including a Fortistar Contract buyout in Resource Recovery. \",\n",
       " 'Executive Summary B22 Community Services:  The FY 202021 recommended budget increase of $5.6 million is mainly due to salary and benefit increases, including the addition of 3.75 FTE, an increase in Housing Assistance driven by the State Homeless Housing Assistance and Prevention Program (HHAP), preventative and regular maintenance costs in parks, and an increase in library passthrough funding.  General Government & Support Services General Services:  The FY 202021 recommended budget increases by $3.7 million due to salary and benefit increases, general increases in utility costs paid on behalf of all County departments, as well as an increase in other charges reflecting the replacement of fully depreciated assets.  Northern Branch Jail:The decrease of $1.5 million reflects a reduction in Northern Branch Jail construction costs as the project nears completion. ']"
      ]
     },
     "execution_count": 6,
     "metadata": {},
     "output_type": "execute_result"
    }
   ],
   "source": [
    "pages"
   ]
  },
  {
   "cell_type": "markdown",
   "metadata": {},
   "source": [
    "### Format or string comprehension"
   ]
  },
  {
   "cell_type": "code",
   "execution_count": 7,
   "metadata": {},
   "outputs": [
    {
     "name": "stdout",
     "output_type": "stream",
     "text": [
      "https://www.eia.gov/outlooks/aeo/pdf/2018.pdf\n",
      "https://www.eia.gov/outlooks/aeo/pdf/2019.pdf\n"
     ]
    }
   ],
   "source": [
    "years = [2018, 2019]\n",
    "\n",
    "for year in years:\n",
    "    url = f'https://www.eia.gov/outlooks/{year}/aeo/pdf/{xxx}.pdf'.format(year, xxx)\n",
    "    print(url)"
   ]
  },
  {
   "cell_type": "code",
   "execution_count": 8,
   "metadata": {},
   "outputs": [
    {
     "name": "stdout",
     "output_type": "stream",
     "text": [
      "https://www.eia.gov/outlooks/aeo/pdf/2018.pdf\n",
      "https://www.eia.gov/outlooks/aeo/pdf/2019.pdf\n"
     ]
    }
   ],
   "source": [
    "for year in years:\n",
    "    url = 'https://www.eia.gov/outlooks/aeo/pdf/' + str(year) + '.pdf'\n",
    "    print(url)"
   ]
  },
  {
   "cell_type": "markdown",
   "metadata": {},
   "source": [
    "### Data cleaning\n",
    "#### Using replace"
   ]
  },
  {
   "cell_type": "code",
   "execution_count": 10,
   "metadata": {},
   "outputs": [
    {
     "data": {
      "text/plain": [
       "'Hello this is a sample sentence with random characters in it!'"
      ]
     },
     "execution_count": 10,
     "metadata": {},
     "output_type": "execute_result"
    }
   ],
   "source": [
    "sentence = 'ŠHello this isŁ a sample sentence with random characters in it!'\n",
    "\n",
    "clean = sentence.replace('Š', '')\n",
    "clean = clean.replace('Ł', '')\n",
    "clean"
   ]
  },
  {
   "cell_type": "markdown",
   "metadata": {},
   "source": [
    "#### Using regular expressions\n",
    "\n",
    "Note that you have to import re"
   ]
  },
  {
   "cell_type": "code",
   "execution_count": 11,
   "metadata": {},
   "outputs": [
    {
     "data": {
      "text/plain": [
       "'Hello this is a sample sentence with random characters in it!'"
      ]
     },
     "execution_count": 11,
     "metadata": {},
     "output_type": "execute_result"
    }
   ],
   "source": [
    "clean = re.sub('Š|Ł|,|[|]', '', str(sentence)) # Use the | character between symbols you want to replace\n",
    "clean"
   ]
  },
  {
   "cell_type": "code",
   "execution_count": 13,
   "metadata": {},
   "outputs": [
    {
     "data": {
      "text/plain": [
       "'hello this is a sample sentence with random characters in it!'"
      ]
     },
     "execution_count": 13,
     "metadata": {},
     "output_type": "execute_result"
    }
   ],
   "source": [
    "lower = clean.lower()\n",
    "lower"
   ]
  },
  {
   "cell_type": "markdown",
   "metadata": {},
   "source": [
    "## Functions in Python"
   ]
  },
  {
   "cell_type": "code",
   "execution_count": 15,
   "metadata": {},
   "outputs": [
    {
     "data": {
      "text/plain": [
       "7"
      ]
     },
     "execution_count": 15,
     "metadata": {},
     "output_type": "execute_result"
    }
   ],
   "source": [
    "def add(x, y):\n",
    "    return x + y\n",
    "\n",
    "total = add(2, 5) # you need to call a function to use it! also, you need to save the output into a \n",
    "                    # variable if you want to use it later\n",
    "total"
   ]
  },
  {
   "cell_type": "markdown",
   "metadata": {},
   "source": [
    "You can output more than one thing from the function"
   ]
  },
  {
   "cell_type": "code",
   "execution_count": 16,
   "metadata": {},
   "outputs": [
    {
     "name": "stdout",
     "output_type": "stream",
     "text": [
      "sum: 7\n",
      "product: 10\n"
     ]
    }
   ],
   "source": [
    "def calculations(x, y):\n",
    "    add = x + y\n",
    "    multiply = x * y\n",
    "    return add, multiply\n",
    "\n",
    "add, multiply = calculations(2, 5)\n",
    "\n",
    "print('sum: {}'.format(add))\n",
    "print('product: {}'.format(multiply))"
   ]
  },
  {
   "cell_type": "markdown",
   "metadata": {},
   "source": [
    "## Lambda\n",
    "Anonymous function"
   ]
  },
  {
   "cell_type": "code",
   "execution_count": 36,
   "metadata": {},
   "outputs": [
    {
     "data": {
      "text/html": [
       "<div>\n",
       "<style scoped>\n",
       "    .dataframe tbody tr th:only-of-type {\n",
       "        vertical-align: middle;\n",
       "    }\n",
       "\n",
       "    .dataframe tbody tr th {\n",
       "        vertical-align: top;\n",
       "    }\n",
       "\n",
       "    .dataframe thead th {\n",
       "        text-align: right;\n",
       "    }\n",
       "</style>\n",
       "<table border=\"1\" class=\"dataframe\">\n",
       "  <thead>\n",
       "    <tr style=\"text-align: right;\">\n",
       "      <th></th>\n",
       "      <th>Person</th>\n",
       "      <th>Age</th>\n",
       "    </tr>\n",
       "  </thead>\n",
       "  <tbody>\n",
       "    <tr>\n",
       "      <th>0</th>\n",
       "      <td>Kevin</td>\n",
       "      <td>8</td>\n",
       "    </tr>\n",
       "    <tr>\n",
       "      <th>1</th>\n",
       "      <td>Megan</td>\n",
       "      <td>19</td>\n",
       "    </tr>\n",
       "    <tr>\n",
       "      <th>2</th>\n",
       "      <td>Carol</td>\n",
       "      <td>35</td>\n",
       "    </tr>\n",
       "    <tr>\n",
       "      <th>3</th>\n",
       "      <td>Lewis</td>\n",
       "      <td>37</td>\n",
       "    </tr>\n",
       "  </tbody>\n",
       "</table>\n",
       "</div>"
      ],
      "text/plain": [
       "  Person  Age\n",
       "0  Kevin    8\n",
       "1  Megan   19\n",
       "2  Carol   35\n",
       "3  Lewis   37"
      ]
     },
     "execution_count": 36,
     "metadata": {},
     "output_type": "execute_result"
    }
   ],
   "source": [
    "# Side lesson: creating data frames from a dictionary\n",
    "family_dict = {'Person':['Kevin', 'Megan', 'Carol', 'Lewis'], \n",
    "        'Age': [8, 19, 35, 37]} \n",
    "\n",
    "family_df = pd.DataFrame(family_dict)\n",
    "family_df"
   ]
  },
  {
   "cell_type": "code",
   "execution_count": 37,
   "metadata": {},
   "outputs": [
    {
     "data": {
      "text/html": [
       "<div>\n",
       "<style scoped>\n",
       "    .dataframe tbody tr th:only-of-type {\n",
       "        vertical-align: middle;\n",
       "    }\n",
       "\n",
       "    .dataframe tbody tr th {\n",
       "        vertical-align: top;\n",
       "    }\n",
       "\n",
       "    .dataframe thead th {\n",
       "        text-align: right;\n",
       "    }\n",
       "</style>\n",
       "<table border=\"1\" class=\"dataframe\">\n",
       "  <thead>\n",
       "    <tr style=\"text-align: right;\">\n",
       "      <th></th>\n",
       "      <th>Person</th>\n",
       "      <th>Age</th>\n",
       "    </tr>\n",
       "  </thead>\n",
       "  <tbody>\n",
       "    <tr>\n",
       "      <th>0</th>\n",
       "      <td>Kevin</td>\n",
       "      <td>11</td>\n",
       "    </tr>\n",
       "    <tr>\n",
       "      <th>1</th>\n",
       "      <td>Megan</td>\n",
       "      <td>22</td>\n",
       "    </tr>\n",
       "    <tr>\n",
       "      <th>2</th>\n",
       "      <td>Carol</td>\n",
       "      <td>38</td>\n",
       "    </tr>\n",
       "    <tr>\n",
       "      <th>3</th>\n",
       "      <td>Lewis</td>\n",
       "      <td>40</td>\n",
       "    </tr>\n",
       "  </tbody>\n",
       "</table>\n",
       "</div>"
      ],
      "text/plain": [
       "  Person  Age\n",
       "0  Kevin   11\n",
       "1  Megan   22\n",
       "2  Carol   38\n",
       "3  Lewis   40"
      ]
     },
     "execution_count": 37,
     "metadata": {},
     "output_type": "execute_result"
    }
   ],
   "source": [
    "family_df['Age'] = family_df['Age'].apply(lambda x: x + 3)\n",
    "family_df"
   ]
  },
  {
   "cell_type": "markdown",
   "metadata": {},
   "source": [
    "## Loops\n",
    "#### Enumerate"
   ]
  },
  {
   "cell_type": "code",
   "execution_count": 35,
   "metadata": {},
   "outputs": [
    {
     "name": "stdout",
     "output_type": "stream",
     "text": [
      "0 apple\n",
      "1 banana\n",
      "2 cherry\n"
     ]
    }
   ],
   "source": [
    "fruits = [\"apple\", \"banana\", \"cherry\"]\n",
    "\n",
    "for i, val in enumerate(fruits):\n",
    "    print(i, val)"
   ]
  },
  {
   "cell_type": "markdown",
   "metadata": {},
   "source": [
    "#### Dictionaries\n",
    "dictionary.items(), dictionary.values(), dictionary.keys()"
   ]
  },
  {
   "cell_type": "code",
   "execution_count": 18,
   "metadata": {},
   "outputs": [
    {
     "name": "stdout",
     "output_type": "stream",
     "text": [
      "2018.pdf [1, 26]\n",
      "2019.pdf [1, 35]\n"
     ]
    }
   ],
   "source": [
    "pages = {'2018.pdf': [1,26], '2019.pdf': [1, 35]}\n",
    "\n",
    "for key, value in pages.items():\n",
    "    print(i, value)"
   ]
  },
  {
   "cell_type": "code",
   "execution_count": 20,
   "metadata": {},
   "outputs": [
    {
     "name": "stdout",
     "output_type": "stream",
     "text": [
      "[1, 26]\n",
      "[1, 35]\n"
     ]
    }
   ],
   "source": [
    "for value in pages.values():\n",
    "    print(value)"
   ]
  },
  {
   "cell_type": "markdown",
   "metadata": {},
   "source": [
    "#### Nested Loops"
   ]
  },
  {
   "cell_type": "code",
   "execution_count": 21,
   "metadata": {},
   "outputs": [
    {
     "name": "stdout",
     "output_type": "stream",
     "text": [
      "solar emissions\n",
      "solar price\n",
      "\n",
      "wind emissions\n",
      "wind price\n",
      "\n",
      "gas emissions\n",
      "gas price\n",
      "\n",
      "coal emissions\n",
      "coal price\n",
      "\n"
     ]
    }
   ],
   "source": [
    "energy_types = ['solar', 'wind', 'gas', 'coal']\n",
    "categories = ['emissions', 'price']\n",
    "\n",
    "for energy_type in energy_types:\n",
    "    for category in categories:\n",
    "        print(energy_type, category)\n",
    "    print('')"
   ]
  },
  {
   "cell_type": "markdown",
   "metadata": {},
   "source": [
    "One way to use a nested loop is to go through a dataframe in **row major order**. That is, you first loop through the rows, then loop through all the columns."
   ]
  },
  {
   "cell_type": "code",
   "execution_count": 27,
   "metadata": {},
   "outputs": [
    {
     "data": {
      "text/html": [
       "<div>\n",
       "<style scoped>\n",
       "    .dataframe tbody tr th:only-of-type {\n",
       "        vertical-align: middle;\n",
       "    }\n",
       "\n",
       "    .dataframe tbody tr th {\n",
       "        vertical-align: top;\n",
       "    }\n",
       "\n",
       "    .dataframe thead th {\n",
       "        text-align: right;\n",
       "    }\n",
       "</style>\n",
       "<table border=\"1\" class=\"dataframe\">\n",
       "  <thead>\n",
       "    <tr style=\"text-align: right;\">\n",
       "      <th></th>\n",
       "      <th>energy type</th>\n",
       "      <th>emissions</th>\n",
       "      <th>price</th>\n",
       "    </tr>\n",
       "  </thead>\n",
       "  <tbody>\n",
       "    <tr>\n",
       "      <th>0</th>\n",
       "      <td>solar</td>\n",
       "      <td>N/A</td>\n",
       "      <td>down</td>\n",
       "    </tr>\n",
       "    <tr>\n",
       "      <th>1</th>\n",
       "      <td>wind</td>\n",
       "      <td>N/A</td>\n",
       "      <td>down</td>\n",
       "    </tr>\n",
       "    <tr>\n",
       "      <th>2</th>\n",
       "      <td>gas</td>\n",
       "      <td>up</td>\n",
       "      <td>N/A</td>\n",
       "    </tr>\n",
       "    <tr>\n",
       "      <th>3</th>\n",
       "      <td>coal</td>\n",
       "      <td>up</td>\n",
       "      <td>up</td>\n",
       "    </tr>\n",
       "  </tbody>\n",
       "</table>\n",
       "</div>"
      ],
      "text/plain": [
       "  energy type emissions price\n",
       "0       solar       N/A  down\n",
       "1        wind       N/A  down\n",
       "2         gas        up   N/A\n",
       "3        coal        up    up"
      ]
     },
     "execution_count": 27,
     "metadata": {},
     "output_type": "execute_result"
    }
   ],
   "source": [
    "# Side lesson\n",
    "energy_dict = {'energy type':['solar', 'wind', 'gas', 'coal'], \n",
    "        'emissions':['N/A', 'N/A', 'up', 'up'],\n",
    "        'price': ['down', 'down', 'N/A', 'up']} \n",
    "\n",
    "energy_df = pd.DataFrame(energy_dict)\n",
    "energy_df"
   ]
  },
  {
   "cell_type": "code",
   "execution_count": 32,
   "metadata": {},
   "outputs": [
    {
     "data": {
      "text/plain": [
       "(4, 3)"
      ]
     },
     "execution_count": 32,
     "metadata": {},
     "output_type": "execute_result"
    }
   ],
   "source": [
    "energy_df.shape"
   ]
  },
  {
   "cell_type": "code",
   "execution_count": 24,
   "metadata": {},
   "outputs": [
    {
     "name": "stdout",
     "output_type": "stream",
     "text": [
      "0 0 solar\n",
      "0 1 N/A\n",
      "0 2 down\n",
      "1 0 wind\n",
      "1 1 N/A\n",
      "1 2 down\n",
      "2 0 gas\n",
      "2 1 up\n",
      "2 2 N/A\n",
      "3 0 coal\n",
      "3 1 up\n",
      "3 2 up\n"
     ]
    }
   ],
   "source": [
    "nrows, ncols = energy_df.shape\n",
    "\n",
    "for i in range(nrows):\n",
    "    for j in range(ncols):\n",
    "        print(i, j, energy_df.iloc[i,j])"
   ]
  },
  {
   "cell_type": "markdown",
   "metadata": {},
   "source": [
    "You can also loop through the dataframe items themselves using: iteritems(), iterrows(), itertuples()"
   ]
  },
  {
   "cell_type": "code",
   "execution_count": 25,
   "metadata": {},
   "outputs": [
    {
     "name": "stdout",
     "output_type": "stream",
     "text": [
      "Pandas(Index=0, _1='solar', emissions='N/A', price='down')\n",
      "Pandas(Index=1, _1='wind', emissions='N/A', price='down')\n",
      "Pandas(Index=2, _1='gas', emissions='up', price='N/A')\n",
      "Pandas(Index=3, _1='coal', emissions='up', price='up')\n"
     ]
    }
   ],
   "source": [
    "for i in energy_df.itertuples(): \n",
    "    print(i)"
   ]
  },
  {
   "cell_type": "code",
   "execution_count": 26,
   "metadata": {},
   "outputs": [
    {
     "name": "stdout",
     "output_type": "stream",
     "text": [
      "solar N/A down\n",
      "wind N/A down\n",
      "gas up N/A\n",
      "coal up up\n"
     ]
    }
   ],
   "source": [
    "# Access the items using\n",
    "for i in energy_df.itertuples(): \n",
    "    print(i._1, i.emissions, i.price)"
   ]
  }
 ],
 "metadata": {
  "kernelspec": {
   "display_name": "Python 3",
   "language": "python",
   "name": "python3"
  },
  "language_info": {
   "codemirror_mode": {
    "name": "ipython",
    "version": 3
   },
   "file_extension": ".py",
   "mimetype": "text/x-python",
   "name": "python",
   "nbconvert_exporter": "python",
   "pygments_lexer": "ipython3",
   "version": "3.7.3"
  }
 },
 "nbformat": 4,
 "nbformat_minor": 4
}
