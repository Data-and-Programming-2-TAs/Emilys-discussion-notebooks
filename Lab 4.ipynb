{
 "cells": [
  {
   "cell_type": "markdown",
   "metadata": {},
   "source": [
    "## Lab 4 - Plotting"
   ]
  },
  {
   "cell_type": "code",
   "execution_count": 2,
   "metadata": {},
   "outputs": [],
   "source": [
    "import pandas as pd\n",
    "import matplotlib.pyplot as plt\n",
    "import statsmodels.api as sm\n",
    "data = sm.datasets\n",
    "import seaborn as sns"
   ]
  },
  {
   "cell_type": "code",
   "execution_count": 17,
   "metadata": {},
   "outputs": [],
   "source": [
    "# Download reported crime data from 2019\n",
    "\n",
    "def get_data_chicago(id):\n",
    "    '''\n",
    "    Connect to the chicago data portal API and returns a dataframe\n",
    "    '''\n",
    "    \n",
    "    url = f'https://data.cityofchicago.org/api/views/{id}/rows.csv?accessType=DOWNLOAD'\n",
    "    df = pd.read_csv(url)\n",
    "\n",
    "    \n",
    "    return df"
   ]
  },
  {
   "cell_type": "code",
   "execution_count": null,
   "metadata": {},
   "outputs": [],
   "source": [
    "crimes2019 = get_data_chicago('w98m-zvie')\n",
    "crimes2020 = get_data_chicago('qzdf-xmn8')\n",
    "\n",
    "crimes = pd.concat([crimes2019, crimes2020])\n",
    "\n",
    "crimes = crimes[['ID', 'Date', 'Primary Type', 'FBI Code', \n",
    "        'Arrest', 'Community Area', 'Year','Location']]\n",
    "\n",
    "crimes.head()"
   ]
  },
  {
   "cell_type": "code",
   "execution_count": null,
   "metadata": {},
   "outputs": [],
   "source": [
    "#Chicago community areas dataset\n",
    "comm_areas = get_data_chicago('igwz-8jzy')\n",
    "\n",
    "#select only relevant columns\n",
    "comm_areas = comm_areas[['COMMUNITY', 'AREA_NUMBE']]\n",
    "\n",
    "print(comm_areas.shape)\n",
    "comm_areas.head()"
   ]
  },
  {
   "cell_type": "code",
   "execution_count": 69,
   "metadata": {},
   "outputs": [
    {
     "name": "stdout",
     "output_type": "stream",
     "text": [
      "(428382, 24)\n"
     ]
    },
    {
     "data": {
      "text/html": [
       "<div>\n",
       "<style scoped>\n",
       "    .dataframe tbody tr th:only-of-type {\n",
       "        vertical-align: middle;\n",
       "    }\n",
       "\n",
       "    .dataframe tbody tr th {\n",
       "        vertical-align: top;\n",
       "    }\n",
       "\n",
       "    .dataframe thead th {\n",
       "        text-align: right;\n",
       "    }\n",
       "</style>\n",
       "<table border=\"1\" class=\"dataframe\">\n",
       "  <thead>\n",
       "    <tr style=\"text-align: right;\">\n",
       "      <th></th>\n",
       "      <th>ID</th>\n",
       "      <th>Case Number</th>\n",
       "      <th>Date</th>\n",
       "      <th>Block</th>\n",
       "      <th>IUCR</th>\n",
       "      <th>Primary Type</th>\n",
       "      <th>Description</th>\n",
       "      <th>Location Description</th>\n",
       "      <th>Arrest</th>\n",
       "      <th>Domestic</th>\n",
       "      <th>...</th>\n",
       "      <th>FBI Code</th>\n",
       "      <th>X Coordinate</th>\n",
       "      <th>Y Coordinate</th>\n",
       "      <th>Year</th>\n",
       "      <th>Updated On</th>\n",
       "      <th>Latitude</th>\n",
       "      <th>Longitude</th>\n",
       "      <th>Location</th>\n",
       "      <th>COMMUNITY</th>\n",
       "      <th>AREA_NUMBE</th>\n",
       "    </tr>\n",
       "  </thead>\n",
       "  <tbody>\n",
       "    <tr>\n",
       "      <th>0</th>\n",
       "      <td>12202211</td>\n",
       "      <td>JD409555</td>\n",
       "      <td>12/13/2019 08:00:00 AM</td>\n",
       "      <td>032XX S HALSTED ST</td>\n",
       "      <td>0930</td>\n",
       "      <td>MOTOR VEHICLE THEFT</td>\n",
       "      <td>THEFT / RECOVERY - AUTOMOBILE</td>\n",
       "      <td>STREET</td>\n",
       "      <td>False</td>\n",
       "      <td>False</td>\n",
       "      <td>...</td>\n",
       "      <td>07</td>\n",
       "      <td>NaN</td>\n",
       "      <td>NaN</td>\n",
       "      <td>2019</td>\n",
       "      <td>10/25/2020 03:52:01 PM</td>\n",
       "      <td>NaN</td>\n",
       "      <td>NaN</td>\n",
       "      <td>NaN</td>\n",
       "      <td>BRIDGEPORT</td>\n",
       "      <td>60</td>\n",
       "    </tr>\n",
       "    <tr>\n",
       "      <th>1</th>\n",
       "      <td>12201545</td>\n",
       "      <td>JD408228</td>\n",
       "      <td>05/17/2019 03:40:00 PM</td>\n",
       "      <td>008XX W 31st st</td>\n",
       "      <td>1150</td>\n",
       "      <td>DECEPTIVE PRACTICE</td>\n",
       "      <td>CREDIT CARD FRAUD</td>\n",
       "      <td>OTHER (SPECIFY)</td>\n",
       "      <td>False</td>\n",
       "      <td>False</td>\n",
       "      <td>...</td>\n",
       "      <td>11</td>\n",
       "      <td>NaN</td>\n",
       "      <td>NaN</td>\n",
       "      <td>2019</td>\n",
       "      <td>10/24/2020 03:51:49 PM</td>\n",
       "      <td>NaN</td>\n",
       "      <td>NaN</td>\n",
       "      <td>NaN</td>\n",
       "      <td>BRIDGEPORT</td>\n",
       "      <td>60</td>\n",
       "    </tr>\n",
       "    <tr>\n",
       "      <th>2</th>\n",
       "      <td>11660525</td>\n",
       "      <td>JC230676</td>\n",
       "      <td>04/19/2019 06:17:00 PM</td>\n",
       "      <td>032XX S MORGAN ST</td>\n",
       "      <td>1310</td>\n",
       "      <td>CRIMINAL DAMAGE</td>\n",
       "      <td>TO PROPERTY</td>\n",
       "      <td>STREET</td>\n",
       "      <td>False</td>\n",
       "      <td>False</td>\n",
       "      <td>...</td>\n",
       "      <td>14</td>\n",
       "      <td>1170176.0</td>\n",
       "      <td>1883245.0</td>\n",
       "      <td>2019</td>\n",
       "      <td>09/28/2020 03:47:51 PM</td>\n",
       "      <td>41.835116</td>\n",
       "      <td>-87.651071</td>\n",
       "      <td>(41.835116429, -87.651071215)</td>\n",
       "      <td>BRIDGEPORT</td>\n",
       "      <td>60</td>\n",
       "    </tr>\n",
       "    <tr>\n",
       "      <th>3</th>\n",
       "      <td>11853725</td>\n",
       "      <td>JC464040</td>\n",
       "      <td>10/07/2019 09:07:00 PM</td>\n",
       "      <td>032XX S MORGAN ST</td>\n",
       "      <td>041A</td>\n",
       "      <td>BATTERY</td>\n",
       "      <td>AGGRAVATED - HANDGUN</td>\n",
       "      <td>SIDEWALK</td>\n",
       "      <td>False</td>\n",
       "      <td>False</td>\n",
       "      <td>...</td>\n",
       "      <td>04B</td>\n",
       "      <td>1170173.0</td>\n",
       "      <td>1883368.0</td>\n",
       "      <td>2019</td>\n",
       "      <td>08/10/2020 03:50:37 PM</td>\n",
       "      <td>41.835454</td>\n",
       "      <td>-87.651079</td>\n",
       "      <td>(41.835454018, -87.651078638)</td>\n",
       "      <td>BRIDGEPORT</td>\n",
       "      <td>60</td>\n",
       "    </tr>\n",
       "    <tr>\n",
       "      <th>4</th>\n",
       "      <td>12127352</td>\n",
       "      <td>JD322512</td>\n",
       "      <td>12/18/2019 08:00:00 AM</td>\n",
       "      <td>029XX S CANAL ST</td>\n",
       "      <td>0820</td>\n",
       "      <td>THEFT</td>\n",
       "      <td>$500 AND UNDER</td>\n",
       "      <td>RESIDENCE - PORCH / HALLWAY</td>\n",
       "      <td>False</td>\n",
       "      <td>False</td>\n",
       "      <td>...</td>\n",
       "      <td>06</td>\n",
       "      <td>1173769.0</td>\n",
       "      <td>1885374.0</td>\n",
       "      <td>2019</td>\n",
       "      <td>08/09/2020 03:47:44 PM</td>\n",
       "      <td>41.840880</td>\n",
       "      <td>-87.637824</td>\n",
       "      <td>(41.840879515, -87.637824245)</td>\n",
       "      <td>BRIDGEPORT</td>\n",
       "      <td>60</td>\n",
       "    </tr>\n",
       "  </tbody>\n",
       "</table>\n",
       "<p>5 rows × 24 columns</p>\n",
       "</div>"
      ],
      "text/plain": [
       "         ID Case Number                    Date               Block  IUCR  \\\n",
       "0  12202211    JD409555  12/13/2019 08:00:00 AM  032XX S HALSTED ST  0930   \n",
       "1  12201545    JD408228  05/17/2019 03:40:00 PM     008XX W 31st st  1150   \n",
       "2  11660525    JC230676  04/19/2019 06:17:00 PM   032XX S MORGAN ST  1310   \n",
       "3  11853725    JC464040  10/07/2019 09:07:00 PM   032XX S MORGAN ST  041A   \n",
       "4  12127352    JD322512  12/18/2019 08:00:00 AM    029XX S CANAL ST  0820   \n",
       "\n",
       "          Primary Type                    Description  \\\n",
       "0  MOTOR VEHICLE THEFT  THEFT / RECOVERY - AUTOMOBILE   \n",
       "1   DECEPTIVE PRACTICE              CREDIT CARD FRAUD   \n",
       "2      CRIMINAL DAMAGE                    TO PROPERTY   \n",
       "3              BATTERY           AGGRAVATED - HANDGUN   \n",
       "4                THEFT                 $500 AND UNDER   \n",
       "\n",
       "          Location Description  Arrest  Domestic  ...  FBI Code  X Coordinate  \\\n",
       "0                       STREET   False     False  ...        07           NaN   \n",
       "1              OTHER (SPECIFY)   False     False  ...        11           NaN   \n",
       "2                       STREET   False     False  ...        14     1170176.0   \n",
       "3                     SIDEWALK   False     False  ...       04B     1170173.0   \n",
       "4  RESIDENCE - PORCH / HALLWAY   False     False  ...        06     1173769.0   \n",
       "\n",
       "   Y Coordinate  Year              Updated On   Latitude  Longitude  \\\n",
       "0           NaN  2019  10/25/2020 03:52:01 PM        NaN        NaN   \n",
       "1           NaN  2019  10/24/2020 03:51:49 PM        NaN        NaN   \n",
       "2     1883245.0  2019  09/28/2020 03:47:51 PM  41.835116 -87.651071   \n",
       "3     1883368.0  2019  08/10/2020 03:50:37 PM  41.835454 -87.651079   \n",
       "4     1885374.0  2019  08/09/2020 03:47:44 PM  41.840880 -87.637824   \n",
       "\n",
       "                        Location   COMMUNITY  AREA_NUMBE  \n",
       "0                            NaN  BRIDGEPORT          60  \n",
       "1                            NaN  BRIDGEPORT          60  \n",
       "2  (41.835116429, -87.651071215)  BRIDGEPORT          60  \n",
       "3  (41.835454018, -87.651078638)  BRIDGEPORT          60  \n",
       "4  (41.840879515, -87.637824245)  BRIDGEPORT          60  \n",
       "\n",
       "[5 rows x 24 columns]"
      ]
     },
     "execution_count": 69,
     "metadata": {},
     "output_type": "execute_result"
    }
   ],
   "source": [
    "#merge crime df and community areas df\n",
    "merged = crimes.merge(comm_areas, left_on=\"Community Area\", \n",
    "                      right_on=\"AREA_NUMBE\", how=\"inner\")\n",
    "print(merged.shape)\n",
    "merged.head()"
   ]
  },
  {
   "cell_type": "code",
   "execution_count": 72,
   "metadata": {},
   "outputs": [
    {
     "data": {
      "text/html": [
       "<div>\n",
       "<style scoped>\n",
       "    .dataframe tbody tr th:only-of-type {\n",
       "        vertical-align: middle;\n",
       "    }\n",
       "\n",
       "    .dataframe tbody tr th {\n",
       "        vertical-align: top;\n",
       "    }\n",
       "\n",
       "    .dataframe thead th {\n",
       "        text-align: right;\n",
       "    }\n",
       "</style>\n",
       "<table border=\"1\" class=\"dataframe\">\n",
       "  <thead>\n",
       "    <tr style=\"text-align: right;\">\n",
       "      <th></th>\n",
       "      <th>COMMUNITY</th>\n",
       "      <th>Primary Type</th>\n",
       "      <th>COUNT</th>\n",
       "    </tr>\n",
       "  </thead>\n",
       "  <tbody>\n",
       "    <tr>\n",
       "      <th>0</th>\n",
       "      <td>ALBANY PARK</td>\n",
       "      <td>ARSON</td>\n",
       "      <td>8</td>\n",
       "    </tr>\n",
       "    <tr>\n",
       "      <th>1</th>\n",
       "      <td>ALBANY PARK</td>\n",
       "      <td>ASSAULT</td>\n",
       "      <td>307</td>\n",
       "    </tr>\n",
       "    <tr>\n",
       "      <th>2</th>\n",
       "      <td>ALBANY PARK</td>\n",
       "      <td>BATTERY</td>\n",
       "      <td>672</td>\n",
       "    </tr>\n",
       "    <tr>\n",
       "      <th>3</th>\n",
       "      <td>ALBANY PARK</td>\n",
       "      <td>BURGLARY</td>\n",
       "      <td>171</td>\n",
       "    </tr>\n",
       "    <tr>\n",
       "      <th>4</th>\n",
       "      <td>ALBANY PARK</td>\n",
       "      <td>CONCEALED CARRY LICENSE VIOLATION</td>\n",
       "      <td>1</td>\n",
       "    </tr>\n",
       "  </tbody>\n",
       "</table>\n",
       "</div>"
      ],
      "text/plain": [
       "     COMMUNITY                       Primary Type  COUNT\n",
       "0  ALBANY PARK                              ARSON      8\n",
       "1  ALBANY PARK                            ASSAULT    307\n",
       "2  ALBANY PARK                            BATTERY    672\n",
       "3  ALBANY PARK                           BURGLARY    171\n",
       "4  ALBANY PARK  CONCEALED CARRY LICENSE VIOLATION      1"
      ]
     },
     "execution_count": 72,
     "metadata": {},
     "output_type": "execute_result"
    }
   ],
   "source": [
    "count_by_community = merged.groupby(['COMMUNITY','Primary Type']).size().to_frame('COUNT').reset_index()\n",
    "count_by_community.head()"
   ]
  },
  {
   "cell_type": "code",
   "execution_count": 65,
   "metadata": {},
   "outputs": [
    {
     "name": "stderr",
     "output_type": "stream",
     "text": [
      "/Users/ezhang/anaconda3/lib/python3.7/site-packages/ipykernel_launcher.py:2: SettingWithCopyWarning: \n",
      "A value is trying to be set on a copy of a slice from a DataFrame\n",
      "\n",
      "See the caveats in the documentation: http://pandas.pydata.org/pandas-docs/stable/indexing.html#indexing-view-versus-copy\n",
      "  \n"
     ]
    }
   ],
   "source": [
    "hyde_park = count_by_community[count_by_community['COMMUNITY']=='HYDE PARK']\n",
    "hyde_park.sort_values('COUNT', ascending=False, inplace=True)"
   ]
  },
  {
   "cell_type": "code",
   "execution_count": 66,
   "metadata": {},
   "outputs": [
    {
     "data": {
      "image/png": "[encoded data removed]",
      "text/plain": [
       "<Figure size 1008x432 with 1 Axes>"
      ]
     },
     "metadata": {
      "needs_background": "light"
     },
     "output_type": "display_data"
    },
    {
     "data": {
      "text/plain": [
       "<Figure size 432x288 with 0 Axes>"
      ]
     },
     "metadata": {},
     "output_type": "display_data"
    }
   ],
   "source": [
    "fig, ax = plt.subplots(figsize=(14,6))\n",
    "\n",
    "ax.bar(hyde_park['Primary Type'], hyde_park['COUNT'])\n",
    "ax.set_title('Hyde Park Crimes', fontsize=15)\n",
    "ax.set_ylabel('Total Crimes (2019-2020)', fontsize=12);\n",
    "ax.set_xlabel('Crime Type', fontsize=12);\n",
    "ax.set_xticklabels(hyde_park['Primary Type'], rotation=90)\n",
    "\n",
    "plt.show()\n",
    "plt.savefig('hyde_park_crimes.png')"
   ]
  },
  {
   "cell_type": "code",
   "execution_count": 94,
   "metadata": {},
   "outputs": [
    {
     "data": {
      "text/html": [
       "<div>\n",
       "<style scoped>\n",
       "    .dataframe tbody tr th:only-of-type {\n",
       "        vertical-align: middle;\n",
       "    }\n",
       "\n",
       "    .dataframe tbody tr th {\n",
       "        vertical-align: top;\n",
       "    }\n",
       "\n",
       "    .dataframe thead th {\n",
       "        text-align: right;\n",
       "    }\n",
       "</style>\n",
       "<table border=\"1\" class=\"dataframe\">\n",
       "  <thead>\n",
       "    <tr style=\"text-align: right;\">\n",
       "      <th></th>\n",
       "      <th>Primary Type</th>\n",
       "      <th>Year</th>\n",
       "      <th>COUNT</th>\n",
       "    </tr>\n",
       "  </thead>\n",
       "  <tbody>\n",
       "    <tr>\n",
       "      <th>0</th>\n",
       "      <td>ARSON</td>\n",
       "      <td>2019</td>\n",
       "      <td>375</td>\n",
       "    </tr>\n",
       "    <tr>\n",
       "      <th>1</th>\n",
       "      <td>ARSON</td>\n",
       "      <td>2020</td>\n",
       "      <td>460</td>\n",
       "    </tr>\n",
       "    <tr>\n",
       "      <th>2</th>\n",
       "      <td>ASSAULT</td>\n",
       "      <td>2019</td>\n",
       "      <td>20613</td>\n",
       "    </tr>\n",
       "    <tr>\n",
       "      <th>3</th>\n",
       "      <td>ASSAULT</td>\n",
       "      <td>2020</td>\n",
       "      <td>14999</td>\n",
       "    </tr>\n",
       "    <tr>\n",
       "      <th>4</th>\n",
       "      <td>BATTERY</td>\n",
       "      <td>2019</td>\n",
       "      <td>49494</td>\n",
       "    </tr>\n",
       "  </tbody>\n",
       "</table>\n",
       "</div>"
      ],
      "text/plain": [
       "  Primary Type  Year  COUNT\n",
       "0        ARSON  2019    375\n",
       "1        ARSON  2020    460\n",
       "2      ASSAULT  2019  20613\n",
       "3      ASSAULT  2020  14999\n",
       "4      BATTERY  2019  49494"
      ]
     },
     "execution_count": 94,
     "metadata": {},
     "output_type": "execute_result"
    }
   ],
   "source": [
    "by_year = merged.groupby(['Primary Type', 'Year']).size().to_frame('COUNT').reset_index()\n",
    "by_year['Year'] = by_year['Year'].astype(str)\n",
    "by_year.head()"
   ]
  },
  {
   "cell_type": "code",
   "execution_count": 100,
   "metadata": {},
   "outputs": [
    {
     "data": {
      "text/plain": [
       "Text(0.5, 0, 'Year')"
      ]
     },
     "execution_count": 100,
     "metadata": {},
     "output_type": "execute_result"
    },
    {
     "data": {
      "image/png": "[encoded data removed]",
      "text/plain": [
       "<Figure size 432x288 with 1 Axes>"
      ]
     },
     "metadata": {
      "needs_background": "light"
     },
     "output_type": "display_data"
    }
   ],
   "source": [
    "fig, ax = plt.subplots()\n",
    "\n",
    "plt.rcParams.update({'font.size': 12}) # or you could update all the font sizes at once\n",
    "\n",
    "ax.plot('Year', 'COUNT', data=by_year[by_year['Primary Type']=='THEFT'])\n",
    "ax.plot('Year', 'COUNT', data=by_year[by_year['Primary Type']=='BATTERY'])\n",
    "ax.plot('Year', 'COUNT', data=by_year[by_year['Primary Type']=='ASSAULT'])\n",
    "ax.set_title('Crimes by Year')\n",
    "ax.set_ylabel('Number of Crimes');\n",
    "ax.set_xlabel('Year')"
   ]
  },
  {
   "cell_type": "code",
   "execution_count": null,
   "metadata": {},
   "outputs": [],
   "source": []
  }
 ],
 "metadata": {
  "kernelspec": {
   "display_name": "Python 3",
   "language": "python",
   "name": "python3"
  },
  "language_info": {
   "codemirror_mode": {
    "name": "ipython",
    "version": 3
   },
   "file_extension": ".py",
   "mimetype": "text/x-python",
   "name": "python",
   "nbconvert_exporter": "python",
   "pygments_lexer": "ipython3",
   "version": "3.7.3"
  }
 },
 "nbformat": 4,
 "nbformat_minor": 4
}
