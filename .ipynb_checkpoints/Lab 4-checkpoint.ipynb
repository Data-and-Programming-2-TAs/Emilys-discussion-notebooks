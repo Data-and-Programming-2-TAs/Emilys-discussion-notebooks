{
 "cells": [
  {
   "cell_type": "markdown",
   "metadata": {},
   "source": [
    "## Lab 4 - Plotting"
   ]
  },
  {
   "cell_type": "code",
   "execution_count": 2,
   "metadata": {},
   "outputs": [],
   "source": [
    "import pandas as pd\n",
    "import matplotlib.pyplot as plt\n",
    "import statsmodels.api as sm\n",
    "data = sm.datasets\n",
    "import seaborn as sns"
   ]
  },
  {
   "cell_type": "code",
   "execution_count": 17,
   "metadata": {},
   "outputs": [],
   "source": [
    "# Download reported crime data from 2019\n",
    "\n",
    "def get_data_chicago(id):\n",
    "    '''\n",
    "    Connect to the chicago data portal API and returns a dataframe\n",
    "    '''\n",
    "    \n",
    "    url = f'https://data.cityofchicago.org/api/views/{id}/rows.csv?accessType=DOWNLOAD'\n",
    "    df = pd.read_csv(url)\n",
    "\n",
    "    \n",
    "    return df"
   ]
  },
  {
   "cell_type": "code",
   "execution_count": null,
   "metadata": {},
   "outputs": [],
   "source": [
    "crimes2019 = get_data_chicago('w98m-zvie')\n",
    "crimes2020 = get_data_chicago('qzdf-xmn8')\n",
    "\n",
    "crimes = pd.concat([crimes2019, crimes2020])\n",
    "\n",
    "crimes = crimes[['ID', 'Date', 'Primary Type', 'FBI Code', \n",
    "        'Arrest', 'Community Area', 'Year','Location']]\n",
    "\n",
    "crimes.head()"
   ]
  },
  {
   "cell_type": "code",
   "execution_count": 16,
   "metadata": {},
   "outputs": [
    {
     "ename": "KeyError",
     "evalue": "\"None of [Index(['ID', 'Date', 'Primary Type', 'FBI Code', 'Arrest', 'Community Area',\\n       'Year', 'Location'],\\n      dtype='object')] are in the [columns]\"",
     "output_type": "error",
     "traceback": [
      "\u001b[0;31m---------------------------------------------------------------------------\u001b[0m",
      "\u001b[0;31mKeyError\u001b[0m                                  Traceback (most recent call last)",
      "\u001b[0;32m<ipython-input-16-66972a468100>\u001b[0m in \u001b[0;36m<module>\u001b[0;34m()\u001b[0m\n\u001b[1;32m      1\u001b[0m \u001b[0;31m#Chicago community areas dataset\u001b[0m\u001b[0;34m\u001b[0m\u001b[0;34m\u001b[0m\u001b[0;34m\u001b[0m\u001b[0m\n\u001b[0;32m----> 2\u001b[0;31m \u001b[0mcomm_areas\u001b[0m \u001b[0;34m=\u001b[0m \u001b[0mget_data_chicago\u001b[0m\u001b[0;34m(\u001b[0m\u001b[0;34m'igwz-8jzy'\u001b[0m\u001b[0;34m)\u001b[0m\u001b[0;34m\u001b[0m\u001b[0;34m\u001b[0m\u001b[0m\n\u001b[0m\u001b[1;32m      3\u001b[0m \u001b[0;34m\u001b[0m\u001b[0m\n\u001b[1;32m      4\u001b[0m \u001b[0;31m#select only relevant columns\u001b[0m\u001b[0;34m\u001b[0m\u001b[0;34m\u001b[0m\u001b[0;34m\u001b[0m\u001b[0m\n\u001b[1;32m      5\u001b[0m \u001b[0mcomm_areas\u001b[0m \u001b[0;34m=\u001b[0m \u001b[0mcomm_areas\u001b[0m\u001b[0;34m[\u001b[0m\u001b[0;34m[\u001b[0m\u001b[0;34m'COMMUNITY'\u001b[0m\u001b[0;34m,\u001b[0m \u001b[0;34m'AREA_NUMBE'\u001b[0m\u001b[0;34m]\u001b[0m\u001b[0;34m]\u001b[0m\u001b[0;34m\u001b[0m\u001b[0;34m\u001b[0m\u001b[0m\n",
      "\u001b[0;32m<ipython-input-10-55f8152c5d4a>\u001b[0m in \u001b[0;36mget_data_chicago\u001b[0;34m(id)\u001b[0m\n\u001b[1;32m      9\u001b[0m     \u001b[0mdf\u001b[0m \u001b[0;34m=\u001b[0m \u001b[0mpd\u001b[0m\u001b[0;34m.\u001b[0m\u001b[0mread_csv\u001b[0m\u001b[0;34m(\u001b[0m\u001b[0murl\u001b[0m\u001b[0;34m)\u001b[0m\u001b[0;34m\u001b[0m\u001b[0;34m\u001b[0m\u001b[0m\n\u001b[1;32m     10\u001b[0m     df = df[['ID', 'Date', 'Primary Type', 'FBI Code', \n\u001b[0;32m---> 11\u001b[0;31m                  'Arrest', 'Community Area', 'Year','Location']]\n\u001b[0m\u001b[1;32m     12\u001b[0m \u001b[0;34m\u001b[0m\u001b[0m\n\u001b[1;32m     13\u001b[0m     \u001b[0;32mreturn\u001b[0m \u001b[0mdf\u001b[0m\u001b[0;34m\u001b[0m\u001b[0;34m\u001b[0m\u001b[0m\n",
      "\u001b[0;32m/Users/ezhang/anaconda3/lib/python3.7/site-packages/pandas/core/frame.py\u001b[0m in \u001b[0;36m__getitem__\u001b[0;34m(self, key)\u001b[0m\n\u001b[1;32m   2932\u001b[0m                 \u001b[0mkey\u001b[0m \u001b[0;34m=\u001b[0m \u001b[0mlist\u001b[0m\u001b[0;34m(\u001b[0m\u001b[0mkey\u001b[0m\u001b[0;34m)\u001b[0m\u001b[0;34m\u001b[0m\u001b[0;34m\u001b[0m\u001b[0m\n\u001b[1;32m   2933\u001b[0m             indexer = self.loc._convert_to_indexer(key, axis=1,\n\u001b[0;32m-> 2934\u001b[0;31m                                                    raise_missing=True)\n\u001b[0m\u001b[1;32m   2935\u001b[0m \u001b[0;34m\u001b[0m\u001b[0m\n\u001b[1;32m   2936\u001b[0m         \u001b[0;31m# take() does not accept boolean indexers\u001b[0m\u001b[0;34m\u001b[0m\u001b[0;34m\u001b[0m\u001b[0;34m\u001b[0m\u001b[0m\n",
      "\u001b[0;32m/Users/ezhang/anaconda3/lib/python3.7/site-packages/pandas/core/indexing.py\u001b[0m in \u001b[0;36m_convert_to_indexer\u001b[0;34m(self, obj, axis, is_setter, raise_missing)\u001b[0m\n\u001b[1;32m   1352\u001b[0m                 kwargs = {'raise_missing': True if is_setter else\n\u001b[1;32m   1353\u001b[0m                           raise_missing}\n\u001b[0;32m-> 1354\u001b[0;31m                 \u001b[0;32mreturn\u001b[0m \u001b[0mself\u001b[0m\u001b[0;34m.\u001b[0m\u001b[0m_get_listlike_indexer\u001b[0m\u001b[0;34m(\u001b[0m\u001b[0mobj\u001b[0m\u001b[0;34m,\u001b[0m \u001b[0maxis\u001b[0m\u001b[0;34m,\u001b[0m \u001b[0;34m**\u001b[0m\u001b[0mkwargs\u001b[0m\u001b[0;34m)\u001b[0m\u001b[0;34m[\u001b[0m\u001b[0;36m1\u001b[0m\u001b[0;34m]\u001b[0m\u001b[0;34m\u001b[0m\u001b[0;34m\u001b[0m\u001b[0m\n\u001b[0m\u001b[1;32m   1355\u001b[0m         \u001b[0;32melse\u001b[0m\u001b[0;34m:\u001b[0m\u001b[0;34m\u001b[0m\u001b[0;34m\u001b[0m\u001b[0m\n\u001b[1;32m   1356\u001b[0m             \u001b[0;32mtry\u001b[0m\u001b[0;34m:\u001b[0m\u001b[0;34m\u001b[0m\u001b[0;34m\u001b[0m\u001b[0m\n",
      "\u001b[0;32m/Users/ezhang/anaconda3/lib/python3.7/site-packages/pandas/core/indexing.py\u001b[0m in \u001b[0;36m_get_listlike_indexer\u001b[0;34m(self, key, axis, raise_missing)\u001b[0m\n\u001b[1;32m   1159\u001b[0m         self._validate_read_indexer(keyarr, indexer,\n\u001b[1;32m   1160\u001b[0m                                     \u001b[0mo\u001b[0m\u001b[0;34m.\u001b[0m\u001b[0m_get_axis_number\u001b[0m\u001b[0;34m(\u001b[0m\u001b[0maxis\u001b[0m\u001b[0;34m)\u001b[0m\u001b[0;34m,\u001b[0m\u001b[0;34m\u001b[0m\u001b[0;34m\u001b[0m\u001b[0m\n\u001b[0;32m-> 1161\u001b[0;31m                                     raise_missing=raise_missing)\n\u001b[0m\u001b[1;32m   1162\u001b[0m         \u001b[0;32mreturn\u001b[0m \u001b[0mkeyarr\u001b[0m\u001b[0;34m,\u001b[0m \u001b[0mindexer\u001b[0m\u001b[0;34m\u001b[0m\u001b[0;34m\u001b[0m\u001b[0m\n\u001b[1;32m   1163\u001b[0m \u001b[0;34m\u001b[0m\u001b[0m\n",
      "\u001b[0;32m/Users/ezhang/anaconda3/lib/python3.7/site-packages/pandas/core/indexing.py\u001b[0m in \u001b[0;36m_validate_read_indexer\u001b[0;34m(self, key, indexer, axis, raise_missing)\u001b[0m\n\u001b[1;32m   1244\u001b[0m                 raise KeyError(\n\u001b[1;32m   1245\u001b[0m                     u\"None of [{key}] are in the [{axis}]\".format(\n\u001b[0;32m-> 1246\u001b[0;31m                         key=key, axis=self.obj._get_axis_name(axis)))\n\u001b[0m\u001b[1;32m   1247\u001b[0m \u001b[0;34m\u001b[0m\u001b[0m\n\u001b[1;32m   1248\u001b[0m             \u001b[0;31m# We (temporarily) allow for some missing keys with .loc, except in\u001b[0m\u001b[0;34m\u001b[0m\u001b[0;34m\u001b[0m\u001b[0;34m\u001b[0m\u001b[0m\n",
      "\u001b[0;31mKeyError\u001b[0m: \"None of [Index(['ID', 'Date', 'Primary Type', 'FBI Code', 'Arrest', 'Community Area',\\n       'Year', 'Location'],\\n      dtype='object')] are in the [columns]\""
     ]
    }
   ],
   "source": [
    "#Chicago community areas dataset\n",
    "comm_areas = get_data_chicago('igwz-8jzy')\n",
    "\n",
    "#select only relevant columns\n",
    "comm_areas = comm_areas[['COMMUNITY', 'AREA_NUMBE']]\n",
    "\n",
    "print(comm_areas.shape)\n",
    "comm_areas.head()"
   ]
  },
  {
   "cell_type": "code",
   "execution_count": 6,
   "metadata": {},
   "outputs": [
    {
     "name": "stdout",
     "output_type": "stream",
     "text": [
      "(260345, 10)\n"
     ]
    },
    {
     "data": {
      "text/html": [
       "<div>\n",
       "<style scoped>\n",
       "    .dataframe tbody tr th:only-of-type {\n",
       "        vertical-align: middle;\n",
       "    }\n",
       "\n",
       "    .dataframe tbody tr th {\n",
       "        vertical-align: top;\n",
       "    }\n",
       "\n",
       "    .dataframe thead th {\n",
       "        text-align: right;\n",
       "    }\n",
       "</style>\n",
       "<table border=\"1\" class=\"dataframe\">\n",
       "  <thead>\n",
       "    <tr style=\"text-align: right;\">\n",
       "      <th></th>\n",
       "      <th>ID</th>\n",
       "      <th>Date</th>\n",
       "      <th>Primary Type</th>\n",
       "      <th>FBI Code</th>\n",
       "      <th>Arrest</th>\n",
       "      <th>Community Area</th>\n",
       "      <th>Year</th>\n",
       "      <th>Location</th>\n",
       "      <th>COMMUNITY</th>\n",
       "      <th>AREA_NUMBE</th>\n",
       "    </tr>\n",
       "  </thead>\n",
       "  <tbody>\n",
       "    <tr>\n",
       "      <th>0</th>\n",
       "      <td>12202211</td>\n",
       "      <td>12/13/2019 08:00:00 AM</td>\n",
       "      <td>MOTOR VEHICLE THEFT</td>\n",
       "      <td>07</td>\n",
       "      <td>False</td>\n",
       "      <td>60</td>\n",
       "      <td>2019</td>\n",
       "      <td>NaN</td>\n",
       "      <td>BRIDGEPORT</td>\n",
       "      <td>60</td>\n",
       "    </tr>\n",
       "    <tr>\n",
       "      <th>1</th>\n",
       "      <td>12201545</td>\n",
       "      <td>05/17/2019 03:40:00 PM</td>\n",
       "      <td>DECEPTIVE PRACTICE</td>\n",
       "      <td>11</td>\n",
       "      <td>False</td>\n",
       "      <td>60</td>\n",
       "      <td>2019</td>\n",
       "      <td>NaN</td>\n",
       "      <td>BRIDGEPORT</td>\n",
       "      <td>60</td>\n",
       "    </tr>\n",
       "    <tr>\n",
       "      <th>2</th>\n",
       "      <td>11660525</td>\n",
       "      <td>04/19/2019 06:17:00 PM</td>\n",
       "      <td>CRIMINAL DAMAGE</td>\n",
       "      <td>14</td>\n",
       "      <td>False</td>\n",
       "      <td>60</td>\n",
       "      <td>2019</td>\n",
       "      <td>(41.835116429, -87.651071215)</td>\n",
       "      <td>BRIDGEPORT</td>\n",
       "      <td>60</td>\n",
       "    </tr>\n",
       "    <tr>\n",
       "      <th>3</th>\n",
       "      <td>11853725</td>\n",
       "      <td>10/07/2019 09:07:00 PM</td>\n",
       "      <td>BATTERY</td>\n",
       "      <td>04B</td>\n",
       "      <td>False</td>\n",
       "      <td>60</td>\n",
       "      <td>2019</td>\n",
       "      <td>(41.835454018, -87.651078638)</td>\n",
       "      <td>BRIDGEPORT</td>\n",
       "      <td>60</td>\n",
       "    </tr>\n",
       "    <tr>\n",
       "      <th>4</th>\n",
       "      <td>12127352</td>\n",
       "      <td>12/18/2019 08:00:00 AM</td>\n",
       "      <td>THEFT</td>\n",
       "      <td>06</td>\n",
       "      <td>False</td>\n",
       "      <td>60</td>\n",
       "      <td>2019</td>\n",
       "      <td>(41.840879515, -87.637824245)</td>\n",
       "      <td>BRIDGEPORT</td>\n",
       "      <td>60</td>\n",
       "    </tr>\n",
       "  </tbody>\n",
       "</table>\n",
       "</div>"
      ],
      "text/plain": [
       "         ID                    Date         Primary Type FBI Code  Arrest  \\\n",
       "0  12202211  12/13/2019 08:00:00 AM  MOTOR VEHICLE THEFT       07   False   \n",
       "1  12201545  05/17/2019 03:40:00 PM   DECEPTIVE PRACTICE       11   False   \n",
       "2  11660525  04/19/2019 06:17:00 PM      CRIMINAL DAMAGE       14   False   \n",
       "3  11853725  10/07/2019 09:07:00 PM              BATTERY      04B   False   \n",
       "4  12127352  12/18/2019 08:00:00 AM                THEFT       06   False   \n",
       "\n",
       "   Community Area  Year                       Location   COMMUNITY  AREA_NUMBE  \n",
       "0              60  2019                            NaN  BRIDGEPORT          60  \n",
       "1              60  2019                            NaN  BRIDGEPORT          60  \n",
       "2              60  2019  (41.835116429, -87.651071215)  BRIDGEPORT          60  \n",
       "3              60  2019  (41.835454018, -87.651078638)  BRIDGEPORT          60  \n",
       "4              60  2019  (41.840879515, -87.637824245)  BRIDGEPORT          60  "
      ]
     },
     "execution_count": 6,
     "metadata": {},
     "output_type": "execute_result"
    }
   ],
   "source": [
    "#merge crime df and community areas df\n",
    "merged = crimes.merge(comm_areas, left_on=\"Community Area\", \n",
    "                      right_on=\"AREA_NUMBE\", how=\"inner\")\n",
    "print(merged.shape)\n",
    "merged.head()"
   ]
  },
  {
   "cell_type": "code",
   "execution_count": null,
   "metadata": {},
   "outputs": [],
   "source": []
  }
 ],
 "metadata": {
  "kernelspec": {
   "display_name": "Python 3",
   "language": "python",
   "name": "python3"
  },
  "language_info": {
   "codemirror_mode": {
    "name": "ipython",
    "version": 3
   },
   "file_extension": ".py",
   "mimetype": "text/x-python",
   "name": "python",
   "nbconvert_exporter": "python",
   "pygments_lexer": "ipython3",
   "version": "3.7.3"
  }
 },
 "nbformat": 4,
 "nbformat_minor": 4
}
